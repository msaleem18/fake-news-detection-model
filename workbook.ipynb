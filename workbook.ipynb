{
 "cells": [
  {
   "attachments": {},
   "cell_type": "markdown",
   "metadata": {},
   "source": [
    "#### FAKE NEWS DETECTION MODEL"
   ]
  },
  {
   "attachments": {},
   "cell_type": "markdown",
   "metadata": {},
   "source": [
    "###### --------------------"
   ]
  },
  {
   "attachments": {},
   "cell_type": "markdown",
   "metadata": {},
   "source": [
    "##### LIBRARIES"
   ]
  },
  {
   "cell_type": "code",
   "execution_count": 8,
   "metadata": {},
   "outputs": [],
   "source": [
    "import pandas as pd\n",
    "import numpy as np\n",
    "import re\n",
    "import os\n",
    "from collections import Counter\n",
    "from itertools import chain\n",
    "\n",
    "import matplotlib.pyplot as plt\n",
    "import seaborn as sns\n",
    "\n",
    "import pickle\n",
    "import json\n",
    "\n",
    "import spacy\n",
    "nlp = spacy.load('en_core_web_sm')\n",
    "\n",
    "from nltk.corpus import stopwords\n",
    "\n",
    "import sklearn\n",
    "from sklearn.calibration import calibration_curve\n",
    "#from sklearn.model_selection import RandomizedSearchCV\n",
    "from sklearn.preprocessing import OneHotEncoder\n",
    "#from sklearn.ensemble import RandomForestClassifier\n",
    "from sklearn.metrics import roc_auc_score\n",
    "from sklearn.model_selection import cross_val_score, KFold, train_test_split\n",
    "from sklearn.neural_network import MLPClassifier\n",
    "from sklearn.model_selection import train_test_split\n",
    "#from sklearn.preprocessing import StandardScaler\n",
    "#from sklearn.preprocessing import MinMaxScaler\n",
    "from sklearn import preprocessing\n",
    "from sklearn.metrics import classification_report, confusion_matrix\n",
    "from sklearn.feature_extraction.text import TfidfVectorizer\n",
    "from sklearn import metrics\n",
    "\n",
    "import nltk\n",
    "from nltk.tokenize import word_tokenize\n",
    "from nltk.stem import SnowballStemmer\n",
    "from sklearn.feature_extraction.text import TfidfVectorizer\n",
    "\n",
    "\n",
    "import tensorflow as tf\n",
    "from tensorflow import keras \n",
    "from tensorflow.keras.preprocessing.text import text_to_word_sequence\n",
    "from tensorflow.keras.preprocessing.text import Tokenizer\n",
    "from tensorflow.keras.preprocessing.sequence import pad_sequences\n",
    "from tensorflow.keras import regularizers\n",
    "\n",
    "import warnings\n",
    "pd.set_option('display.max_rows', None)\n"
   ]
  },
  {
   "cell_type": "code",
   "execution_count": 9,
   "metadata": {},
   "outputs": [
    {
     "data": {
      "text/plain": [
       "'1.1.1'"
      ]
     },
     "execution_count": 9,
     "metadata": {},
     "output_type": "execute_result"
    }
   ],
   "source": [
    "sklearn.__version__"
   ]
  },
  {
   "attachments": {},
   "cell_type": "markdown",
   "metadata": {},
   "source": [
    "##### READ DATA"
   ]
  },
  {
   "cell_type": "code",
   "execution_count": 2,
   "metadata": {},
   "outputs": [
    {
     "name": "stdout",
     "output_type": "stream",
     "text": [
      "-- CURRENT DIRECTORY: /Users/mhsaleem/Documents/Personal/MML_Assignment\n"
     ]
    }
   ],
   "source": [
    "current_wd = os.getcwd()\n",
    "print(\"-- CURRENT DIRECTORY: %s\" %current_wd)"
   ]
  },
  {
   "cell_type": "code",
   "execution_count": null,
   "metadata": {},
   "outputs": [],
   "source": [
    "file_path_train = current_wd+'/fake_news/train.csv'\n",
    "file_path_test = current_wd+'/fake_news/test.csv'\n",
    "file_path_labels = current_wd+'/fake_news/labels.csv'\n",
    "\n",
    "def create_df(train_path, test_path, label_path):\n",
    "    train_data = pd.read_csv(train_path)\n",
    "    test_data = pd.read_csv(file_path_test)\n",
    "    test_labels = pd.read_csv(file_path_labels)\n",
    "\n",
    "    test_final = pd.merge(test_data, test_labels, how = \"inner\", left_on='id',right_on='id')\n",
    "\n",
    "    train_data[\"wc_heading\"] = train_data[\"title\"].apply(lambda n: len(str(n).split()))\n",
    "    train_data[\"wc_news\"] = train_data[\"text\"].apply(lambda n: len(str(n).split()))\n",
    "    test_final[\"wc_heading\"] = test_final[\"title\"].apply(lambda n: len(str(n).split()))\n",
    "    test_final[\"wc_news\"] = test_final[\"text\"].apply(lambda n: len(str(n).split()))\n",
    "\n",
    "    return train_data, test_final"
   ]
  },
  {
   "cell_type": "code",
   "execution_count": null,
   "metadata": {},
   "outputs": [],
   "source": [
    "df_train, df_test = create_df(file_path_train, file_path_test, file_path_labels)\n",
    "print(\"df_train shape {}\".format(df_train.shape))\n",
    "print(\"df_test shape {}\".format(df_test.shape))\n",
    "print(\"-------\")\n",
    "print(\"TRAIN COUNT\")\n",
    "print(df_train.groupby('label').id.count())\n",
    "print(\"TEST COUNT\")\n",
    "print(df_test.groupby('label').id.count())\n",
    "\n",
    "df_train.head(5)"
   ]
  },
  {
   "cell_type": "code",
   "execution_count": null,
   "metadata": {},
   "outputs": [],
   "source": [
    "df_test.head(10)"
   ]
  },
  {
   "cell_type": "code",
   "execution_count": 3,
   "metadata": {},
   "outputs": [
    {
     "name": "stdout",
     "output_type": "stream",
     "text": [
      "df_train shape (20225, 16)\n",
      "df_test shape (5058, 16)\n",
      "-------\n",
      "TRAIN COUNT\n",
      "label\n",
      "0    10385\n",
      "1     9840\n",
      "Name: id, dtype: int64\n",
      "TEST COUNT\n",
      "label\n",
      "0    2336\n",
      "1    2722\n",
      "Name: id, dtype: int64\n"
     ]
    },
    {
     "data": {
      "text/html": [
       "<div>\n",
       "<style scoped>\n",
       "    .dataframe tbody tr th:only-of-type {\n",
       "        vertical-align: middle;\n",
       "    }\n",
       "\n",
       "    .dataframe tbody tr th {\n",
       "        vertical-align: top;\n",
       "    }\n",
       "\n",
       "    .dataframe thead th {\n",
       "        text-align: right;\n",
       "    }\n",
       "</style>\n",
       "<table border=\"1\" class=\"dataframe\">\n",
       "  <thead>\n",
       "    <tr style=\"text-align: right;\">\n",
       "      <th></th>\n",
       "      <th>id</th>\n",
       "      <th>title</th>\n",
       "      <th>author</th>\n",
       "      <th>text</th>\n",
       "      <th>label</th>\n",
       "      <th>clean_title</th>\n",
       "      <th>clean_text</th>\n",
       "      <th>clean_author</th>\n",
       "      <th>wc_heading</th>\n",
       "      <th>wc_news</th>\n",
       "      <th>wc_heading_clean</th>\n",
       "      <th>wc_news_clean</th>\n",
       "      <th>ratio_news_clean_orig</th>\n",
       "      <th>ratio_head_clean_orig</th>\n",
       "      <th>combined_clean</th>\n",
       "      <th>lstm_prob</th>\n",
       "    </tr>\n",
       "  </thead>\n",
       "  <tbody>\n",
       "    <tr>\n",
       "      <th>0</th>\n",
       "      <td>0</td>\n",
       "      <td>House Dem Aide: We Didn’t Even See Comey’s Let...</td>\n",
       "      <td>Darrell Lucus</td>\n",
       "      <td>House Dem Aide: We Didn’t Even See Comey’s Let...</td>\n",
       "      <td>1</td>\n",
       "      <td>house dem aide do not even see comey letter ja...</td>\n",
       "      <td>house dem aide do not even see comey letter ja...</td>\n",
       "      <td>darrell lucus</td>\n",
       "      <td>14</td>\n",
       "      <td>820</td>\n",
       "      <td>12</td>\n",
       "      <td>461</td>\n",
       "      <td>0.562195</td>\n",
       "      <td>0.857143</td>\n",
       "      <td>darrell lucus house dem aide do not even see c...</td>\n",
       "      <td>0.993984</td>\n",
       "    </tr>\n",
       "    <tr>\n",
       "      <th>1</th>\n",
       "      <td>1</td>\n",
       "      <td>FLYNN: Hillary Clinton, Big Woman on Campus - ...</td>\n",
       "      <td>Daniel J. Flynn</td>\n",
       "      <td>Ever get the feeling your life circles the rou...</td>\n",
       "      <td>0</td>\n",
       "      <td>flynn hillary clinton big woman campus breitbart</td>\n",
       "      <td>ever get feeling life circle roundabout rather...</td>\n",
       "      <td>daniel j flynn</td>\n",
       "      <td>9</td>\n",
       "      <td>710</td>\n",
       "      <td>7</td>\n",
       "      <td>378</td>\n",
       "      <td>0.532394</td>\n",
       "      <td>0.777778</td>\n",
       "      <td>daniel j flynn ever get feeling life circle ro...</td>\n",
       "      <td>0.373942</td>\n",
       "    </tr>\n",
       "    <tr>\n",
       "      <th>2</th>\n",
       "      <td>2</td>\n",
       "      <td>Why the Truth Might Get You Fired</td>\n",
       "      <td>Consortiumnews.com</td>\n",
       "      <td>Why the Truth Might Get You Fired October 29, ...</td>\n",
       "      <td>1</td>\n",
       "      <td>truth might get fire</td>\n",
       "      <td>truth might get fire october 29 2016 tension i...</td>\n",
       "      <td>consortiumnewscom</td>\n",
       "      <td>7</td>\n",
       "      <td>1266</td>\n",
       "      <td>4</td>\n",
       "      <td>704</td>\n",
       "      <td>0.556082</td>\n",
       "      <td>0.571429</td>\n",
       "      <td>consortiumnewscom truth might get fire october...</td>\n",
       "      <td>0.988899</td>\n",
       "    </tr>\n",
       "    <tr>\n",
       "      <th>3</th>\n",
       "      <td>3</td>\n",
       "      <td>15 Civilians Killed In Single US Airstrike Hav...</td>\n",
       "      <td>Jessica Purkiss</td>\n",
       "      <td>Videos 15 Civilians Killed In Single US Airstr...</td>\n",
       "      <td>1</td>\n",
       "      <td>15 civilian kill single us airstrike identify</td>\n",
       "      <td>video 15 civilian kill single us airstrike ide...</td>\n",
       "      <td>jessica purkiss</td>\n",
       "      <td>10</td>\n",
       "      <td>557</td>\n",
       "      <td>7</td>\n",
       "      <td>306</td>\n",
       "      <td>0.549372</td>\n",
       "      <td>0.700000</td>\n",
       "      <td>jessica purkiss video 15 civilian kill single ...</td>\n",
       "      <td>0.385617</td>\n",
       "    </tr>\n",
       "    <tr>\n",
       "      <th>4</th>\n",
       "      <td>4</td>\n",
       "      <td>Iranian woman jailed for fictional unpublished...</td>\n",
       "      <td>Howard Portnoy</td>\n",
       "      <td>Print \\nAn Iranian woman has been sentenced to...</td>\n",
       "      <td>1</td>\n",
       "      <td>iranian woman jail fictional unpublished story...</td>\n",
       "      <td>print iranian woman sentence year prison iran ...</td>\n",
       "      <td>howard portnoy</td>\n",
       "      <td>14</td>\n",
       "      <td>154</td>\n",
       "      <td>10</td>\n",
       "      <td>87</td>\n",
       "      <td>0.564935</td>\n",
       "      <td>0.714286</td>\n",
       "      <td>howard portnoy print iranian woman sentence ye...</td>\n",
       "      <td>0.977961</td>\n",
       "    </tr>\n",
       "  </tbody>\n",
       "</table>\n",
       "</div>"
      ],
      "text/plain": [
       "   id                                              title              author  \\\n",
       "0   0  House Dem Aide: We Didn’t Even See Comey’s Let...       Darrell Lucus   \n",
       "1   1  FLYNN: Hillary Clinton, Big Woman on Campus - ...     Daniel J. Flynn   \n",
       "2   2                  Why the Truth Might Get You Fired  Consortiumnews.com   \n",
       "3   3  15 Civilians Killed In Single US Airstrike Hav...     Jessica Purkiss   \n",
       "4   4  Iranian woman jailed for fictional unpublished...      Howard Portnoy   \n",
       "\n",
       "                                                text  label  \\\n",
       "0  House Dem Aide: We Didn’t Even See Comey’s Let...      1   \n",
       "1  Ever get the feeling your life circles the rou...      0   \n",
       "2  Why the Truth Might Get You Fired October 29, ...      1   \n",
       "3  Videos 15 Civilians Killed In Single US Airstr...      1   \n",
       "4  Print \\nAn Iranian woman has been sentenced to...      1   \n",
       "\n",
       "                                         clean_title  \\\n",
       "0  house dem aide do not even see comey letter ja...   \n",
       "1   flynn hillary clinton big woman campus breitbart   \n",
       "2                               truth might get fire   \n",
       "3      15 civilian kill single us airstrike identify   \n",
       "4  iranian woman jail fictional unpublished story...   \n",
       "\n",
       "                                          clean_text       clean_author  \\\n",
       "0  house dem aide do not even see comey letter ja...      darrell lucus   \n",
       "1  ever get feeling life circle roundabout rather...     daniel j flynn   \n",
       "2  truth might get fire october 29 2016 tension i...  consortiumnewscom   \n",
       "3  video 15 civilian kill single us airstrike ide...    jessica purkiss   \n",
       "4  print iranian woman sentence year prison iran ...     howard portnoy   \n",
       "\n",
       "   wc_heading  wc_news  wc_heading_clean  wc_news_clean  \\\n",
       "0          14      820                12            461   \n",
       "1           9      710                 7            378   \n",
       "2           7     1266                 4            704   \n",
       "3          10      557                 7            306   \n",
       "4          14      154                10             87   \n",
       "\n",
       "   ratio_news_clean_orig  ratio_head_clean_orig  \\\n",
       "0               0.562195               0.857143   \n",
       "1               0.532394               0.777778   \n",
       "2               0.556082               0.571429   \n",
       "3               0.549372               0.700000   \n",
       "4               0.564935               0.714286   \n",
       "\n",
       "                                      combined_clean  lstm_prob  \n",
       "0  darrell lucus house dem aide do not even see c...   0.993984  \n",
       "1  daniel j flynn ever get feeling life circle ro...   0.373942  \n",
       "2  consortiumnewscom truth might get fire october...   0.988899  \n",
       "3  jessica purkiss video 15 civilian kill single ...   0.385617  \n",
       "4  howard portnoy print iranian woman sentence ye...   0.977961  "
      ]
     },
     "execution_count": 3,
     "metadata": {},
     "output_type": "execute_result"
    }
   ],
   "source": [
    "df_train = pd.read_csv(current_wd+'/df_train_clean_lstm.csv')\n",
    "df_test = pd.read_csv(current_wd+'/df_test_clean_lstm.csv')\n",
    "\n",
    "df_train = df_train.drop(columns=['Unnamed: 0'])\n",
    "df_test = df_test.drop(columns=['Unnamed: 0'])\n",
    "\n",
    "print(\"df_train shape {}\".format(df_train.shape))\n",
    "print(\"df_test shape {}\".format(df_test.shape))\n",
    "print(\"-------\")\n",
    "print(\"TRAIN COUNT\")\n",
    "print(df_train.groupby('label').id.count())\n",
    "print(\"TEST COUNT\")\n",
    "print(df_test.groupby('label').id.count())\n",
    "\n",
    "df_train.head(5)"
   ]
  },
  {
   "cell_type": "code",
   "execution_count": 4,
   "metadata": {},
   "outputs": [
    {
     "data": {
      "text/plain": [
       "id                       0\n",
       "title                    0\n",
       "author                   0\n",
       "text                     0\n",
       "label                    0\n",
       "clean_title              0\n",
       "clean_text               0\n",
       "clean_author             0\n",
       "wc_heading               0\n",
       "wc_news                  0\n",
       "wc_heading_clean         0\n",
       "wc_news_clean            0\n",
       "ratio_news_clean_orig    0\n",
       "ratio_head_clean_orig    0\n",
       "combined_clean           0\n",
       "lstm_prob                0\n",
       "dtype: int64"
      ]
     },
     "execution_count": 4,
     "metadata": {},
     "output_type": "execute_result"
    }
   ],
   "source": [
    "#df_train[['clean_title', 'clean_author']] = df_train[['clean_title', 'clean_author']].fillna(value = 'missing')\n",
    "#df_test[['clean_title', 'clean_author']] = df_test[['clean_title', 'clean_author']].fillna(value = 'missing')\n",
    "df_train.isna().sum()"
   ]
  },
  {
   "cell_type": "code",
   "execution_count": null,
   "metadata": {},
   "outputs": [],
   "source": [
    "df_test.dtypes"
   ]
  },
  {
   "cell_type": "code",
   "execution_count": null,
   "metadata": {},
   "outputs": [],
   "source": [
    "len(df_train[df_train.wc_news < 20])"
   ]
  },
  {
   "cell_type": "code",
   "execution_count": null,
   "metadata": {},
   "outputs": [],
   "source": [
    "## heading count is 40\n",
    "df_train[['wc_heading','wc_news']].describe()"
   ]
  },
  {
   "cell_type": "code",
   "execution_count": null,
   "metadata": {},
   "outputs": [],
   "source": [
    "df_test[['wc_heading','wc_news']].describe()"
   ]
  },
  {
   "cell_type": "code",
   "execution_count": null,
   "metadata": {},
   "outputs": [],
   "source": []
  },
  {
   "cell_type": "code",
   "execution_count": null,
   "metadata": {},
   "outputs": [],
   "source": [
    "texts = [\n",
    "    \"House Dem Aide: We Didn’t Even See Comey’s Letter Until Jason Chaffetz Tweeted It\",\n",
    "    \"Revenue exceeded twelve billion dollars!!!!, with a loss of $1b.\",\n",
    "]\n",
    "\n",
    "docs = list(nlp.pipe(texts))"
   ]
  },
  {
   "cell_type": "code",
   "execution_count": null,
   "metadata": {},
   "outputs": [],
   "source": [
    "docs"
   ]
  },
  {
   "cell_type": "code",
   "execution_count": null,
   "metadata": {},
   "outputs": [],
   "source": [
    "print(nlp.pipe_names)"
   ]
  },
  {
   "cell_type": "code",
   "execution_count": null,
   "metadata": {},
   "outputs": [],
   "source": [
    "b=[]\n",
    "for token in docs[0]:\n",
    "    print(token.text, token.lemma_, token.pos_, token.is_digit, token.is_alpha, token.is_stop)\n",
    "\n",
    "    if token.is_alpha or token.pos_ == 'NUM':\n",
    "        b.append(token.lemma_)\n",
    "\n",
    "' '.join(b)\n"
   ]
  },
  {
   "cell_type": "code",
   "execution_count": null,
   "metadata": {},
   "outputs": [],
   "source": [
    "nlp.Defaults.stop_words -= {\"nothing\", \"empty\", \"everything\",\"did\",\"except\",\"should\",\"do\",\"not\"}\n",
    "print(nlp.Defaults.stop_words)"
   ]
  },
  {
   "cell_type": "code",
   "execution_count": null,
   "metadata": {},
   "outputs": [],
   "source": []
  },
  {
   "cell_type": "code",
   "execution_count": null,
   "metadata": {},
   "outputs": [],
   "source": [
    "a=\"what's the name aren't didn’t\"\n",
    "each_text = re.sub(r\"\\'s\", \" is\", a)\n",
    "each_text = re.sub(r\"n\\'t\", \" not\", each_text)\n",
    "each_text = re.sub(r\"n\\’t\", \" not\", each_text)\n",
    "\n",
    "each_text"
   ]
  },
  {
   "cell_type": "code",
   "execution_count": null,
   "metadata": {},
   "outputs": [],
   "source": []
  },
  {
   "cell_type": "code",
   "execution_count": null,
   "metadata": {},
   "outputs": [],
   "source": []
  },
  {
   "cell_type": "code",
   "execution_count": null,
   "metadata": {},
   "outputs": [],
   "source": []
  },
  {
   "attachments": {},
   "cell_type": "markdown",
   "metadata": {},
   "source": [
    "##### PREPROCESSING"
   ]
  },
  {
   "cell_type": "code",
   "execution_count": null,
   "metadata": {},
   "outputs": [],
   "source": [
    "\n",
    "f = open(current_wd+'/output/word_count.json')\n",
    "word_count_dict = json.load(f)\n",
    "f.close()\n",
    "\n",
    "word_count_dict['house']"
   ]
  },
  {
   "cell_type": "code",
   "execution_count": null,
   "metadata": {},
   "outputs": [],
   "source": []
  },
  {
   "cell_type": "code",
   "execution_count": null,
   "metadata": {},
   "outputs": [],
   "source": [
    "# %%\n",
    "####################################################################################\n",
    "# stop words\n",
    "####################################################################################\n",
    "nltk.download('stopwords')\n",
    "#nltk.download('punkt')\n",
    "stop_words_nltk = nltk.corpus.stopwords.words('english')\n",
    "stop_words_nltk = stop_words_nltk + ['','ag_text','cx_text','agtext','cxtext','hi','hello','amazon','please',\n",
    "                        'itis','thatis','mm','eh','ummm','wo','st','would','name','oh','amazonis',\n",
    "                        'one','two','five','hermes','emailaddress','chat','nine','orderid','seven',\n",
    "                        'eight','twenty','six','yet','thereis','ahhh','pounds','dot','url','id','ml','um',\n",
    "                        'four','bz','thousand','I','mr','•','phonenumber','rd']\n",
    "\n",
    "sto_word_list_remove = ['no', 'nor', 'not', 'only','again','against','do', 'should', 'are']\n",
    "\n",
    "for word in sto_word_list_remove: \n",
    "    stop_words_nltk.remove(word)\n",
    "    \n",
    "print(stop_words_nltk)"
   ]
  },
  {
   "cell_type": "code",
   "execution_count": null,
   "metadata": {},
   "outputs": [],
   "source": [
    "import time\n",
    "\n",
    "# %%\n",
    "####################################################################################\n",
    "# CLEAN\n",
    "####################################################################################\n",
    "def clean_text(each_text):\n",
    "\n",
    "    each_text = str(each_text).lower()\n",
    "    each_text = re.sub(r\"what's\", \"what is \", each_text)\n",
    "    each_text = re.sub(r\"sheis\", \"she is \", each_text)\n",
    "    \n",
    "    each_text = re.sub(r\"http\\S+\", \"\", each_text)\n",
    "    each_text = re.sub(r\"cannot\", \"can not\", each_text) ##--different\n",
    "    each_text = re.sub(r\"whatis\", \"what is\", each_text) ##--different\n",
    "    each_text = re.sub(r\"\\'s\", \" is\", each_text)\n",
    "    #each_text = each_text.replace(r\".\", \"\", each_text)\n",
    "    each_text = re.sub(r\"\\’s\", \" is\", each_text)\n",
    "    each_text = re.sub(r\"\\'ve\", \" have\", each_text)\n",
    "    each_text = re.sub(r\"n\\’t\", \" not\", each_text)\n",
    "    each_text = re.sub(r\"n\\'t\", \" not\", each_text)\n",
    "    each_text = re.sub(r\"i\\'m\", \"i am\", each_text)\n",
    "    each_text = re.sub(r\"i\\’m\", \"i am\", each_text)\n",
    "    each_text = re.sub(r\"\\'ve\", \" have\", each_text)\n",
    "    each_text = re.sub(r\"\\'re\", \" are \", each_text)\n",
    "    each_text = re.sub(r\"\\’re\", \" are \", each_text)\n",
    "    each_text = re.sub(r\"\\'d\", \" would \", each_text)\n",
    "    each_text = re.sub(r\"\\'ll\", \" will \", each_text)\n",
    "    each_text = re.sub(r\"\\’ll\", \" will \", each_text)\n",
    "    each_text = re.sub(r\"\\\\\", \"\", each_text)\n",
    "    each_text = re.sub(r\"\\'\", \"\", each_text)\n",
    "    each_text = re.sub(r\"\\\"\", \"\", each_text)\n",
    "    each_text = re.sub(r\" ;\",\";\", each_text)\n",
    "    #each_text = re.sub('[^a-zA-Z; ?!]+', '', each_text)\n",
    "    #each_text = re.sub(r'\\d+', '', each_text)\n",
    "    each_text = re.sub(r'&amp;?', r'and', each_text)  # replace & -> and\n",
    "    each_text = re.sub(r\"https?:\\/\\/t.co\\/[A-Za-z0-9]+\", \"\", each_text)  # Remove URLs\n",
    "    each_text = re.sub('[^A-Za-z0-9; ]+', '', each_text) ##keep only words and digits\n",
    "    each_text = re.sub('\\s+', ' ', each_text).strip()  # Remove and double spaces\n",
    "\n",
    "    each_text = each_text.strip()\n",
    "    \n",
    "        \n",
    "    return \" \".join(each_text.split())\n",
    "\n",
    "def clean_text_dataframe(df, col_to_use):\n",
    "    df[col_to_use+'_step_clean'] = df[col_to_use].apply(lambda x: clean_text(x))\n",
    "    list_of_all_text = df[col_to_use+'_step_clean'].values.tolist()\n",
    "    #print(\"type of list: %s\" %type(list_of_all_text))\n",
    "    #print(list_of_all_text)\n",
    "\n",
    "    docs = list(nlp.pipe(list_of_all_text))\n",
    "    docs_clean = []\n",
    "    for single_doc in docs:\n",
    "        #print(single_doc)\n",
    "        single_doc_tokens = []\n",
    "        for token in single_doc:\n",
    "            #print(token.text, token.lemma_, token.pos_, token.is_digit, token.is_alpha)\n",
    "            if (token.is_alpha or token.pos_ == 'NUM') and (token.lemma_ not in stop_words_nltk):\n",
    "                #print(\"in here\")\n",
    "                #print(word_count_dict[token.lemma_])\n",
    "                #if token.lemma_ in word_count_dict:\n",
    "                 #   print(word_count_dict[token.lemma_])\n",
    "                    #if word_count_dict[token.lemma_] > 1:\n",
    "                single_doc_tokens.append(token.lemma_)\n",
    "                #else:\n",
    "                 #  single_doc_tokens.append(token.lemma_)\n",
    "\n",
    "        docs_clean.append(\" \".join(single_doc_tokens))\n",
    "    \n",
    "    return docs_clean\n",
    "\n",
    "def start_df_cleaning(df):\n",
    "    # dropping missing values from text columns alone. \n",
    "    df[['title', 'author']] = df[['title', 'author']].fillna(value = 'missing')\n",
    "    df = df.dropna()\n",
    "    #df = df[df.wc_news > 20]\n",
    "    \n",
    "    print(\"Shape of df {}\".format(df.shape))\n",
    "    print(sum(df.isnull().sum()))\n",
    "\n",
    "    df['clean_title'] = clean_text_dataframe(df, 'title')\n",
    "    df['clean_text'] = clean_text_dataframe(df, 'text')\n",
    "    df['clean_author'] = clean_text_dataframe(df, 'author')\n",
    "\n",
    "    df[\"wc_heading_clean\"] = df[\"clean_title\"].apply(lambda n: len(str(n).split()))\n",
    "    df[\"wc_news_clean\"] = df[\"clean_text\"].apply(lambda n: len(str(n).split()))\n",
    "\n",
    "    cols_to_use = ['id','title','author','text','label','clean_title','clean_text','clean_author','wc_heading','wc_news','wc_heading_clean','wc_news_clean']\n",
    "    df = df[cols_to_use]\n",
    "    df['ratio_news_clean_orig'] = df.wc_news_clean / df.wc_news\n",
    "    df['ratio_head_clean_orig'] = df.wc_heading_clean / df.wc_heading\n",
    "    df = df[df.wc_news_clean > 10]\n",
    "\n",
    "    return df\n"
   ]
  },
  {
   "cell_type": "code",
   "execution_count": null,
   "metadata": {},
   "outputs": [],
   "source": [
    "df_train_rand = start_df_cleaning(df_train.head(4))\n",
    "df_train_rand"
   ]
  },
  {
   "cell_type": "code",
   "execution_count": null,
   "metadata": {},
   "outputs": [],
   "source": [
    "#df_test_sample = df_train.head(3).copy()\n",
    "# get the start time\n",
    "st = time.time()\n",
    "\n",
    "df_train = start_df_cleaning(df_train)\n",
    "print(\"DONE WITH TRAIN\")\n",
    "df_test = start_df_cleaning(df_test)\n",
    "\n",
    "# get the end time\n",
    "et = time.time()\n",
    "\n",
    "# get the execution time\n",
    "elapsed_time = et - st\n",
    "print('Execution time:', elapsed_time, 'seconds')"
   ]
  },
  {
   "cell_type": "code",
   "execution_count": null,
   "metadata": {},
   "outputs": [],
   "source": [
    "df_train.head(3)"
   ]
  },
  {
   "cell_type": "code",
   "execution_count": null,
   "metadata": {},
   "outputs": [],
   "source": [
    "word_count_dict['aide']"
   ]
  },
  {
   "cell_type": "code",
   "execution_count": null,
   "metadata": {},
   "outputs": [],
   "source": [
    "df_train.to_csv(current_wd+'/data_train_clean.csv')\n",
    "df_test.to_csv(current_wd+'/data_test_clean.csv')\n",
    "print(\"DONE WRITING\")"
   ]
  },
  {
   "cell_type": "code",
   "execution_count": null,
   "metadata": {},
   "outputs": [],
   "source": [
    "print(df_train.shape)\n",
    "print(df_test.shape)"
   ]
  },
  {
   "cell_type": "code",
   "execution_count": null,
   "metadata": {},
   "outputs": [],
   "source": [
    "print(len(df_train[df_train.wc_news_clean < 1500])) ##covers 98%\n",
    "df_train[['wc_news_clean','wc_heading_clean']].describe()"
   ]
  },
  {
   "cell_type": "code",
   "execution_count": null,
   "metadata": {},
   "outputs": [],
   "source": [
    "##WORD COUNT\n",
    "v = df_train['clean_text'].str.split().tolist()\n",
    "c = Counter(chain.from_iterable(v))"
   ]
  },
  {
   "cell_type": "code",
   "execution_count": null,
   "metadata": {},
   "outputs": [],
   "source": []
  },
  {
   "cell_type": "markdown",
   "metadata": {},
   "source": [
    "##### BASIC CURVE PLOTTING"
   ]
  },
  {
   "cell_type": "code",
   "execution_count": 5,
   "metadata": {},
   "outputs": [],
   "source": [
    "def plot_calibration_curve(name, fig_index, probs):\n",
    "    \"\"\"Plot calibration curve for est w/o and with calibration. \"\"\"\n",
    "\n",
    "    fig = plt.figure(fig_index, figsize=(10, 10))\n",
    "    ax1 = plt.subplot2grid((3, 1), (0, 0), rowspan=2)\n",
    "    ax2 = plt.subplot2grid((3, 1), (2, 0))\n",
    "    \n",
    "    ax1.plot([0, 1], [0, 1], \"k:\", label=\"Perfectly calibrated\")\n",
    "    \n",
    "    frac_of_pos, mean_pred_value = calibration_curve(y_test, probs, n_bins=10)\n",
    "\n",
    "    ax1.plot(mean_pred_value, frac_of_pos, \"s-\", label=f'{name}')\n",
    "    ax1.set_ylabel(\"Fraction of positives\")\n",
    "    ax1.set_ylim([-0.05, 1.05])\n",
    "    ax1.legend(loc=\"lower right\")\n",
    "    ax1.set_title(f'Calibration plot ({name})')\n",
    "    \n",
    "    ax2.hist(probs, range=(0, 1), bins=10, label=name, histtype=\"step\", lw=2)\n",
    "    ax2.set_xlabel(\"Mean predicted value\")\n",
    "    ax2.set_ylabel(\"Count\")\n",
    "\n",
    "#%%\n",
    "# =============================================================================\n",
    "# FUnction for probability calibration (get probability threshold for a precision)\n",
    "# Returns - \n",
    "#    Probability threshold \n",
    "#    actual & predicted based on threshold \n",
    "#    confusion matrix\n",
    "# =============================================================================\n",
    "def validation_probability_threshold(actual,predicted_prob,label):\n",
    "\n",
    "    import matplotlib.pyplot as plt\n",
    "    import pandas as pd\n",
    "    from sklearn import metrics\n",
    "    import numpy as np\n",
    "\n",
    "    print('{} AUC is: {}'.format(label, metrics.roc_auc_score(actual,predicted_prob)))\n",
    "    fpr, tpr, _ = metrics.roc_curve(actual, predicted_prob)\n",
    "    auc = metrics.roc_auc_score(actual, predicted_prob)\n",
    "\n",
    "    precision, recall, threshold = metrics.precision_recall_curve(actual, predicted_prob, pos_label=None,sample_weight=None)\n",
    "    #    \n",
    "    d = {'precision': precision[:-1], 'recall': recall[:-1],'threshold':threshold}\n",
    "    prt = pd.DataFrame(data=d)\n",
    "    prt['f1Score'] = 2*prt['precision']*prt['recall']/(prt['precision']+prt['recall'])\n",
    "    prt['precision_floor'] = np.floor(prt['precision']*100)/100\n",
    "    \n",
    "    print(\"shape of prt {}\".format(prt.shape))\n",
    "    #print(prt)\n",
    "\n",
    "    final_threshold = 0.5\n",
    "    final_threshold_loc = prt.loc[prt['precision']==prt['recall'],'threshold'] #.values[0]\n",
    "    if len(final_threshold_loc) > 0:\n",
    "        final_threshold = final_threshold_loc.values[0]\n",
    "    else:\n",
    "        print(\"*** CANT FIND PREC = RECALL - forcing to %s\" %final_threshold)\n",
    "    print('Probability threshold:'+str(final_threshold))\n",
    "\n",
    "    fn = pd.concat([pd.DataFrame(actual).reset_index(drop=True),pd.DataFrame(predicted_prob)],axis=1)\n",
    "    fn.columns = ('actual','predicted_prob')\n",
    "    #    fn = pd.concat([pd.DataFrame(actual),pd.DataFrame(predicted_prob)],axis=1)\n",
    "    #    fn.columns = ('actual','predicted_prob')\n",
    "#    fn.loc[(fn['predicted_prob']>=float(final_threshold)),'predicted'] = 1\n",
    "#    fn.loc[(fn['predicted_prob']<float(final_threshold)),'predicted'] = 0\n",
    "    fn['predicted'] = np.where(fn['predicted_prob']>=float(final_threshold),1,0)\n",
    "#    fn['predicted'] = fn['predicted'].astype(int)\n",
    "    cnf_mat = metrics.confusion_matrix(fn['actual'], fn['predicted'])\n",
    "\n",
    "    plt.figure(figsize=(10, 6))\n",
    "    plt.plot(fpr, tpr,label=\"AUC=\"+str(auc))\n",
    "    plt.plot(fpr, fpr)\n",
    "    plt.xlabel('FPR')\n",
    "    plt.ylabel('TPR')\n",
    "    plt.title('ROC curve for {} data (auc = {})'.format(label,round(auc,3)))\n",
    "    plt.show()\n",
    "\n",
    "    plt.figure(figsize=(10, 6))\n",
    "    plt.title('Precision and Recall as function of Probability Threshold')\n",
    "    plt.plot(threshold,precision[:-1],\"b--\",label = 'Precision')\n",
    "    plt.plot(threshold,recall[:-1],\"g--\",label = 'Recall')\n",
    "    plt.plot(threshold,prt['f1Score'],\"r--\",label = 'f1Score')\n",
    "    plt.legend(('Precision', 'Recall', 'f1Score'),loc='lower center', shadow=False)\n",
    "    plt.xticks(np.arange(0, 1, step=0.1))\n",
    "    plt.yticks(np.arange(0, 1, step=0.1))\n",
    "    plt.grid(b=1,which='both',axis='both')\n",
    "    plt.xlabel(\"Probability Threshold\")\n",
    "    plt.show()\n",
    "\n",
    "    print('{} data confusion matrix with {} threshold:\\n {}'.format(label, final_threshold, pd.crosstab(fn['actual'],fn['predicted'])))\n",
    "    print('Classification report {} data:\\n{}'.format(label,metrics.classification_report(fn['actual'],fn['predicted'])))\n",
    "\n",
    "    return final_threshold, fn, cnf_mat\n",
    "# =============================================================================\n",
    "# FUnction to plot beautiful confusion matrix\n",
    "# =============================================================================\n",
    "def plot_confusion_matrix(cm,\n",
    "                          target_names,\n",
    "                          title='Confusion matrix',\n",
    "                          cmap=None,\n",
    "                          normalize=True):\n",
    "    import matplotlib.pyplot as plt\n",
    "    import numpy as np\n",
    "    import itertools\n",
    "\n",
    "    accuracy = np.trace(cm) / float(np.sum(cm))\n",
    "    misclass = 1 - accuracy\n",
    "\n",
    "    if cmap is None:\n",
    "        cmap = plt.get_cmap('Blues')\n",
    "\n",
    "    plt.figure(figsize=(10, 8))\n",
    "    plt.imshow(cm, interpolation='nearest', cmap=cmap)\n",
    "    plt.title(title)\n",
    "    plt.colorbar()\n",
    "\n",
    "    if target_names is not None:\n",
    "        tick_marks = np.arange(len(target_names))\n",
    "        plt.xticks(tick_marks, target_names, rotation=45)\n",
    "        plt.yticks(tick_marks, target_names)\n",
    "\n",
    "    if normalize:\n",
    "        cm = cm.astype('float') / cm.sum(axis=1)[:, np.newaxis]\n",
    "\n",
    "\n",
    "    thresh = cm.max() / 1.5 if normalize else cm.max() / 2\n",
    "    for i, j in itertools.product(range(cm.shape[0]), range(cm.shape[1])):\n",
    "        if normalize:\n",
    "            plt.text(j, i, \"{:0.4f}\".format(cm[i, j]),\n",
    "                     horizontalalignment=\"center\",\n",
    "                     color=\"white\" if cm[i, j] > thresh else \"black\")\n",
    "        else:\n",
    "            plt.text(j, i, \"{:,}\".format(cm[i, j]),\n",
    "                     horizontalalignment=\"center\",\n",
    "                     color=\"white\" if cm[i, j] > thresh else \"black\")\n",
    "\n",
    "\n",
    "    plt.tight_layout()\n",
    "    plt.ylabel('True label')\n",
    "    plt.xlabel('Predicted label\\naccuracy={:0.4f}; misclass={:0.4f}'.format(accuracy, misclass))\n",
    "    plt.show()"
   ]
  },
  {
   "cell_type": "code",
   "execution_count": null,
   "metadata": {},
   "outputs": [],
   "source": []
  },
  {
   "cell_type": "code",
   "execution_count": null,
   "metadata": {},
   "outputs": [],
   "source": []
  },
  {
   "attachments": {},
   "cell_type": "markdown",
   "metadata": {},
   "source": [
    "##### TFIDF Technique"
   ]
  },
  {
   "cell_type": "code",
   "execution_count": 7,
   "metadata": {},
   "outputs": [],
   "source": [
    "from sklearn.feature_extraction.text import TfidfVectorizer\n",
    "from sklearn.pipeline import Pipeline"
   ]
  },
  {
   "cell_type": "code",
   "execution_count": null,
   "metadata": {},
   "outputs": [],
   "source": [
    "#df_train['combined_clean'] = df_final_train.clean_author + ' ' + df_final_train.clean_title + ' ' + df_final_train.clean_text"
   ]
  },
  {
   "cell_type": "code",
   "execution_count": 6,
   "metadata": {},
   "outputs": [
    {
     "name": "stdout",
     "output_type": "stream",
     "text": [
      "Shape of Training Matrix:(19213, 6)\n",
      "Shape of Training Target:(19213,)\n",
      "Shape of Validation Matrix:(1012, 6)\n",
      "Shape of Validation Target:(1012,)\n"
     ]
    }
   ],
   "source": [
    "df_train_tfidf = df_train[['combined_clean','wc_heading','wc_news','ratio_news_clean_orig','ratio_head_clean_orig','lstm_prob']]\n",
    "#df_train_tfidf['combined_clean'] = df_train_tfidf.clean_author + ' ' + df_train_tfidf.clean_text\n",
    "#df_train_tfidf = df_train_tfidf[['combined_clean','ratio_news_clean_orig','ratio_head_clean_orig']]\n",
    "\n",
    "x_train, x_val, y_train, y_val = train_test_split(df_train_tfidf, df_train['label'], test_size=0.05, shuffle = True)\n",
    "print('Shape of Training Matrix:'+str(x_train.shape))\n",
    "print('Shape of Training Target:'+str(y_train.shape))\n",
    "print('Shape of Validation Matrix:'+str(x_val.shape))\n",
    "print('Shape of Validation Target:'+str(y_val.shape))"
   ]
  },
  {
   "cell_type": "code",
   "execution_count": null,
   "metadata": {},
   "outputs": [],
   "source": [
    "sk_learn_pipe = Pipeline([('tfidf', TfidfVectorizer(use_idf=True, max_features = 5000)), \n",
    "                            ('svc', SVC())])"
   ]
  },
  {
   "cell_type": "code",
   "execution_count": 8,
   "metadata": {},
   "outputs": [
    {
     "name": "stdout",
     "output_type": "stream",
     "text": [
      "Shape of Training Matrix:(19213, 5005)\n",
      "Shape of Val Matrix:(1012, 5005)\n"
     ]
    }
   ],
   "source": [
    "# settings that you use for count vectorizer will go here \n",
    "tfidf_vectorizer=TfidfVectorizer(use_idf=True, max_features = 5000)\n",
    "tfidf_vectorizer.fit(x_train.combined_clean)\n",
    "\n",
    "x_train_transform = tfidf_vectorizer.transform(x_train.combined_clean)\n",
    "x_val_transform = tfidf_vectorizer.transform(x_val.combined_clean)\n",
    "\n",
    "x_train_transform = np.concatenate((x_train_transform.todense(), x_train[['wc_heading','wc_news','ratio_news_clean_orig','ratio_head_clean_orig','lstm_prob']].values), axis=1)\n",
    "x_val_transform = np.concatenate((x_val_transform.todense(), x_val[['wc_heading','wc_news','ratio_news_clean_orig','ratio_head_clean_orig','lstm_prob']].values), axis=1)\n",
    "\n",
    "print('Shape of Training Matrix:'+str(x_train_transform.shape))\n",
    "print('Shape of Val Matrix:'+str(x_val_transform.shape))"
   ]
  },
  {
   "cell_type": "code",
   "execution_count": 9,
   "metadata": {},
   "outputs": [
    {
     "name": "stdout",
     "output_type": "stream",
     "text": [
      "DONE WRITING\n"
     ]
    }
   ],
   "source": [
    "pickle.dump(tfidf_vectorizer, open(current_wd+\"/output/vectorizer.pickle\", \"wb\"))\n",
    "print(\"DONE WRITING\")"
   ]
  },
  {
   "cell_type": "code",
   "execution_count": 14,
   "metadata": {},
   "outputs": [],
   "source": [
    "#df_final_test_use = df_final_test[df_final_test.hc_mc_thread_sequence <3]\n",
    "df_test_tfidf = df_test[['combined_clean','wc_heading','wc_news','ratio_news_clean_orig','ratio_head_clean_orig','lstm_prob','label']]\n",
    "#df_test_tfidf['combined_clean'] = df_test_tfidf.clean_author + ' ' + df_test_tfidf.clean_text\n",
    "#df_test_tfidf = df_test_tfidf[['combined_clean','ratio_news_clean_orig','ratio_head_clean_orig','label']]"
   ]
  },
  {
   "cell_type": "code",
   "execution_count": null,
   "metadata": {},
   "outputs": [],
   "source": [
    "df_test_tfidf.dtypes"
   ]
  },
  {
   "cell_type": "code",
   "execution_count": 11,
   "metadata": {},
   "outputs": [],
   "source": [
    "from sklearn.linear_model import LogisticRegression\n",
    "from sklearn.naive_bayes import GaussianNB\n",
    "from sklearn.ensemble import RandomForestClassifier, GradientBoostingClassifier\n",
    "import pickle"
   ]
  },
  {
   "cell_type": "code",
   "execution_count": null,
   "metadata": {},
   "outputs": [],
   "source": [
    "clf_lr = LogisticRegression(random_state=0)\n",
    "clf_lr.fit(x_train_transform, y_train)\n",
    "y_val_prob = clf_lr.predict_proba(x_val_transform)[:,1]\n",
    "\n",
    "print(clf_lr.classes_)\n",
    "threshold, scored_data, cnf_mat = validation_probability_threshold(y_val, y_val_prob, 'Validation')\n",
    "#plot_confusion_matrix(cnf_mat, [target_dict[1], target_dict[0]], title='Confusion matrix', cmap=None, normalize=False)"
   ]
  },
  {
   "cell_type": "code",
   "execution_count": null,
   "metadata": {},
   "outputs": [],
   "source": [
    "\n",
    "x_test_transform = fitted_vectorizer.transform(df_test_tfidf.combined_clean)\n",
    "\n",
    "x_test = np.concatenate((x_test_transform.todense(), df_test_tfidf[['wc_heading','wc_news','ratio_news_clean_orig','ratio_head_clean_orig','lstm_prob']].values), axis=1)\n",
    "y_test = df_test_tfidf['label']\n",
    "\n",
    "# %%\n",
    "print('Shape of Test Matrix:'+str(x_test.shape))\n",
    "print('Shape of Test Target:'+str(y_test.shape))\n",
    "\n",
    "# %%\n",
    "y_test_proba = clf_lr.predict_proba(x_test)[:,1]\n",
    "print(\"shape of y_test_proba {}\".format(y_test_proba.shape))\n",
    "\n",
    "target_dict = {0: 'ESC-Y', 1: 'ESC-N'}\n",
    "\n",
    "threshold, scored_data, cnf_mat = validation_probability_threshold(y_test, y_test_proba, 'Testing')\n",
    "plot_confusion_matrix(cnf_mat, [target_dict[1], target_dict[0]], title='Confusion matrix', cmap=None, normalize=False)"
   ]
  },
  {
   "cell_type": "code",
   "execution_count": 18,
   "metadata": {},
   "outputs": [
    {
     "name": "stderr",
     "output_type": "stream",
     "text": [
      "/Users/mhsaleem/.local/lib/python3.9/site-packages/sklearn/utils/validation.py:727: FutureWarning: np.matrix usage is deprecated in 1.0 and will raise a TypeError in 1.2. Please convert to a numpy array with np.asarray. For more information see: https://numpy.org/doc/stable/reference/generated/numpy.matrix.html\n",
      "  warnings.warn(\n"
     ]
    },
    {
     "name": "stdout",
     "output_type": "stream",
     "text": [
      "[0 1]\n",
      "Validation AUC is: 0.8822934431049692\n",
      "shape of prt (1011, 5)\n",
      "Probability threshold:0.49344574066015107\n"
     ]
    },
    {
     "name": "stderr",
     "output_type": "stream",
     "text": [
      "/Users/mhsaleem/.local/lib/python3.9/site-packages/sklearn/utils/validation.py:727: FutureWarning: np.matrix usage is deprecated in 1.0 and will raise a TypeError in 1.2. Please convert to a numpy array with np.asarray. For more information see: https://numpy.org/doc/stable/reference/generated/numpy.matrix.html\n",
      "  warnings.warn(\n"
     ]
    },
    {
     "data": {
      "image/png": "[encoded data removed]",
      "text/plain": [
       "<Figure size 720x432 with 1 Axes>"
      ]
     },
     "metadata": {
      "needs_background": "light"
     },
     "output_type": "display_data"
    },
    {
     "data": {
      "image/png": "[encoded data removed]",
      "text/plain": [
       "<Figure size 720x432 with 1 Axes>"
      ]
     },
     "metadata": {
      "needs_background": "light"
     },
     "output_type": "display_data"
    },
    {
     "name": "stdout",
     "output_type": "stream",
     "text": [
      "Validation data confusion matrix with 0.49344574066015107 threshold:\n",
      " predicted    0    1\n",
      "actual             \n",
      "0          428  109\n",
      "1          109  366\n",
      "Classification report Validation data:\n",
      "              precision    recall  f1-score   support\n",
      "\n",
      "           0       0.80      0.80      0.80       537\n",
      "           1       0.77      0.77      0.77       475\n",
      "\n",
      "    accuracy                           0.78      1012\n",
      "   macro avg       0.78      0.78      0.78      1012\n",
      "weighted avg       0.78      0.78      0.78      1012\n",
      "\n"
     ]
    },
    {
     "data": {
      "image/png": "[encoded data removed]",
      "text/plain": [
       "<Figure size 720x576 with 2 Axes>"
      ]
     },
     "metadata": {
      "needs_background": "light"
     },
     "output_type": "display_data"
    }
   ],
   "source": [
    "###Best: {'criterion': 1, 'max_depth': 5, 'max_features': 0, 'n_estimators': 3}\n",
    "clf_rfc = RandomForestClassifier(max_depth=4, n_estimators=300, max_features = 'log2', \n",
    "                                    criterion='gini',random_state=0)\n",
    "clf_rfc.fit(x_train_transform, y_train)\n",
    "y_val_prob = clf_rfc.predict_proba(x_val_transform)[:,1]\n",
    "\n",
    "print(clf_rfc.classes_)\n",
    "threshold, scored_data, cnf_mat = validation_probability_threshold(y_val, y_val_prob, 'Validation')\n",
    "plot_confusion_matrix(cnf_mat, [target_dict[1], target_dict[0]], title='Confusion matrix', cmap=None, normalize=False)"
   ]
  },
  {
   "cell_type": "code",
   "execution_count": 19,
   "metadata": {},
   "outputs": [
    {
     "name": "stdout",
     "output_type": "stream",
     "text": [
      "Shape of Test Matrix:(5058, 5005)\n",
      "Shape of Test Target:(5058,)\n"
     ]
    },
    {
     "name": "stderr",
     "output_type": "stream",
     "text": [
      "/Users/mhsaleem/.local/lib/python3.9/site-packages/sklearn/utils/validation.py:727: FutureWarning: np.matrix usage is deprecated in 1.0 and will raise a TypeError in 1.2. Please convert to a numpy array with np.asarray. For more information see: https://numpy.org/doc/stable/reference/generated/numpy.matrix.html\n",
      "  warnings.warn(\n"
     ]
    },
    {
     "name": "stdout",
     "output_type": "stream",
     "text": [
      "shape of y_test_proba (5058,)\n",
      "Testing AUC is: 0.9104160166275804\n",
      "shape of prt (5028, 5)\n",
      "Probability threshold:0.4880380499062176\n"
     ]
    },
    {
     "data": {
      "image/png": "[encoded data removed]",
      "text/plain": [
       "<Figure size 720x432 with 1 Axes>"
      ]
     },
     "metadata": {
      "needs_background": "light"
     },
     "output_type": "display_data"
    },
    {
     "data": {
      "image/png": "[encoded data removed]",
      "text/plain": [
       "<Figure size 720x432 with 1 Axes>"
      ]
     },
     "metadata": {
      "needs_background": "light"
     },
     "output_type": "display_data"
    },
    {
     "name": "stdout",
     "output_type": "stream",
     "text": [
      "Testing data confusion matrix with 0.4880380499062176 threshold:\n",
      " predicted     0     1\n",
      "actual               \n",
      "0          1887   449\n",
      "1           449  2273\n",
      "Classification report Testing data:\n",
      "              precision    recall  f1-score   support\n",
      "\n",
      "           0       0.81      0.81      0.81      2336\n",
      "           1       0.84      0.84      0.84      2722\n",
      "\n",
      "    accuracy                           0.82      5058\n",
      "   macro avg       0.82      0.82      0.82      5058\n",
      "weighted avg       0.82      0.82      0.82      5058\n",
      "\n"
     ]
    },
    {
     "data": {
      "image/png": "[encoded data removed]",
      "text/plain": [
       "<Figure size 720x576 with 2 Axes>"
      ]
     },
     "metadata": {
      "needs_background": "light"
     },
     "output_type": "display_data"
    }
   ],
   "source": [
    "\n",
    "x_test_transform = tfidf_vectorizer.transform(df_test_tfidf.combined_clean)\n",
    "\n",
    "x_test = np.concatenate((x_test_transform.todense(), df_test_tfidf[['wc_heading','wc_news','ratio_news_clean_orig','ratio_head_clean_orig','lstm_prob']].values), axis=1)\n",
    "y_test = df_test_tfidf['label']\n",
    "\n",
    "# %%\n",
    "print('Shape of Test Matrix:'+str(x_test.shape))\n",
    "print('Shape of Test Target:'+str(y_test.shape))\n",
    "\n",
    "# %%\n",
    "y_test_proba = clf_rfc.predict_proba(x_test)[:,1]\n",
    "print(\"shape of y_test_proba {}\".format(y_test_proba.shape))\n",
    "\n",
    "target_dict = {0: 'ESC-Y', 1: 'ESC-N'}\n",
    "\n",
    "threshold, scored_data, cnf_mat = validation_probability_threshold(y_test, y_test_proba, 'Testing')\n",
    "plot_confusion_matrix(cnf_mat, [target_dict[1], target_dict[0]], title='Confusion matrix', cmap=None, normalize=False)"
   ]
  },
  {
   "cell_type": "code",
   "execution_count": null,
   "metadata": {},
   "outputs": [],
   "source": [
    "current_wd"
   ]
  },
  {
   "cell_type": "code",
   "execution_count": 20,
   "metadata": {},
   "outputs": [],
   "source": [
    "pickle.dump(clf_rfc, open(current_wd+'/output/random_forest_model.sav', 'wb'))"
   ]
  },
  {
   "cell_type": "code",
   "execution_count": null,
   "metadata": {},
   "outputs": [],
   "source": [
    "# load the model from disk\n",
    "#loaded_model = pickle.load(open(filename, 'rb'))\n",
    "#result = loaded_model.score(X_test, Y_test)"
   ]
  },
  {
   "cell_type": "code",
   "execution_count": null,
   "metadata": {},
   "outputs": [],
   "source": [
    "clf_gbc = GradientBoostingClassifier(n_estimators=100, learning_rate=0.01,\n",
    "                                max_depth=3, \n",
    "                                random_state=0).fit(x_train_transform, y_train)\n",
    "y_val_prob = clf_gbc.predict_proba(x_val_transform)[:,1]\n",
    "\n",
    "print(clf_gbc.classes_)\n",
    "threshold, scored_data, cnf_mat = validation_probability_threshold(y_val, y_val_prob, 'Validation')\n",
    "plot_confusion_matrix(cnf_mat, [target_dict[1], target_dict[0]], title='Confusion matrix', cmap=None, normalize=False)"
   ]
  },
  {
   "cell_type": "code",
   "execution_count": null,
   "metadata": {},
   "outputs": [],
   "source": [
    "\n",
    "x_test_transform = fitted_vectorizer.transform(df_test_tfidf.combined_clean)\n",
    "\n",
    "x_test = np.concatenate((x_test_transform.todense(), df_test_tfidf[['wc_heading','wc_news','ratio_news_clean_orig','ratio_head_clean_orig','lstm_prob']].values), axis=1)\n",
    "y_test = df_test_tfidf['label']\n",
    "\n",
    "# %%\n",
    "print('Shape of Test Matrix:'+str(x_test.shape))\n",
    "print('Shape of Test Target:'+str(y_test.shape))\n",
    "\n",
    "# %%\n",
    "y_test_proba = clf_gbc.predict_proba(x_test)[:,1]\n",
    "print(\"shape of y_test_proba {}\".format(y_test_proba.shape))\n",
    "\n",
    "target_dict = {0: 'ESC-Y', 1: 'ESC-N'}\n",
    "\n",
    "threshold, scored_data, cnf_mat = validation_probability_threshold(y_test, y_test_proba, 'Testing')\n",
    "plot_confusion_matrix(cnf_mat, [target_dict[1], target_dict[0]], title='Confusion matrix', cmap=None, normalize=False)"
   ]
  },
  {
   "cell_type": "code",
   "execution_count": null,
   "metadata": {},
   "outputs": [],
   "source": [
    "clf_gnb = GaussianNB()\n",
    "clf_gnb.fit(x_train_transform, y_train)\n",
    "\n",
    "y_val_prob = clf_gnb.predict_proba(x_val_transform)[:,1]\n",
    "\n",
    "print(clf_gnb.classes_)\n",
    "threshold, scored_data, cnf_mat = validation_probability_threshold(y_val, y_val_prob, 'Validation')\n",
    "plot_confusion_matrix(cnf_mat, [target_dict[1], target_dict[0]], title='Confusion matrix', cmap=None, normalize=False)"
   ]
  },
  {
   "cell_type": "code",
   "execution_count": null,
   "metadata": {},
   "outputs": [],
   "source": [
    "\n",
    "x_test_transform = fitted_vectorizer.transform(df_test_tfidf.combined_clean)\n",
    "\n",
    "x_test = np.concatenate((x_test_transform.todense(), df_test_tfidf[['wc_heading','wc_news','ratio_news_clean_orig','ratio_head_clean_orig','lstm_prob']].values), axis=1)\n",
    "y_test = df_test_tfidf['label']\n",
    "\n",
    "# %%\n",
    "print('Shape of Test Matrix:'+str(x_test.shape))\n",
    "print('Shape of Test Target:'+str(y_test.shape))\n",
    "\n",
    "# %%\n",
    "y_test_proba = clf_gnb.predict_proba(x_test)[:,1]\n",
    "print(\"shape of y_test_proba {}\".format(y_test_proba.shape))\n",
    "\n",
    "target_dict = {0: 'ESC-Y', 1: 'ESC-N'}\n",
    "\n",
    "threshold, scored_data, cnf_mat = validation_probability_threshold(y_test, y_test_proba, 'Testing')\n",
    "plot_confusion_matrix(cnf_mat, [target_dict[1], target_dict[0]], title='Confusion matrix', cmap=None, normalize=False)"
   ]
  },
  {
   "cell_type": "code",
   "execution_count": null,
   "metadata": {},
   "outputs": [],
   "source": []
  },
  {
   "cell_type": "code",
   "execution_count": null,
   "metadata": {},
   "outputs": [],
   "source": [
    "from hyperopt import tpe, hp, fmin, STATUS_OK,Trials\n",
    "from hyperopt.pyll.base import scope\n"
   ]
  },
  {
   "cell_type": "code",
   "execution_count": null,
   "metadata": {},
   "outputs": [],
   "source": [
    "space = {\n",
    "    \"n_estimators\": hp.choice(\"n_estimators\", [100, 200, 300, 400,500]),\n",
    "    \"max_depth\": hp.choice(\"max_depth\", [2, 4,5,6,7,8]),\n",
    "    \"max_features\": hp.choice(\"max_features\", [\"sqrt\",\"log2\"]),\n",
    "    \"criterion\": hp.choice(\"criterion\", [\"gini\", \"entropy\"]),\n",
    "}\n",
    "\n",
    "# define objective function\n",
    "\n",
    "def hyperparameter_tuning(params):\n",
    "    clf = RandomForestClassifier(**params,n_jobs=-1)\n",
    "    acc = cross_val_score(clf, x_train_transform, y_train,scoring=\"accuracy\").mean()\n",
    "    return {\"loss\": -acc, \"status\": STATUS_OK}"
   ]
  },
  {
   "cell_type": "code",
   "execution_count": null,
   "metadata": {},
   "outputs": [],
   "source": [
    "# Initialize trials object\n",
    "trials = Trials()\n",
    "\n",
    "best = fmin(\n",
    "    fn=hyperparameter_tuning,\n",
    "    space = space, \n",
    "    algo=tpe.suggest, \n",
    "    max_evals=100, \n",
    "    trials=trials\n",
    ")\n",
    "\n"
   ]
  },
  {
   "cell_type": "code",
   "execution_count": null,
   "metadata": {},
   "outputs": [],
   "source": [
    "print(\"Best: {}\".format(best))"
   ]
  },
  {
   "cell_type": "code",
   "execution_count": null,
   "metadata": {},
   "outputs": [],
   "source": [
    "##Best: {'criterion': 1, 'max_depth': 5, 'max_features': 0, 'n_estimators': 3}"
   ]
  },
  {
   "cell_type": "code",
   "execution_count": null,
   "metadata": {},
   "outputs": [],
   "source": []
  },
  {
   "cell_type": "code",
   "execution_count": null,
   "metadata": {},
   "outputs": [],
   "source": []
  },
  {
   "attachments": {},
   "cell_type": "markdown",
   "metadata": {},
   "source": [
    "##### EMBEDDINGS"
   ]
  },
  {
   "cell_type": "code",
   "execution_count": null,
   "metadata": {},
   "outputs": [],
   "source": []
  },
  {
   "cell_type": "code",
   "execution_count": null,
   "metadata": {},
   "outputs": [],
   "source": [
    "# %%\n",
    "####################################################################################\n",
    "# key variables\n",
    "####################################################################################\n",
    "embedding_dim = 300\n",
    "max_length = 900\n",
    "save_label = 'lstm_model'\n",
    "output_location = current_wd+'/output'"
   ]
  },
  {
   "cell_type": "code",
   "execution_count": null,
   "metadata": {},
   "outputs": [],
   "source": [
    "#### --------\n",
    "## SELF EMBEDDINGS\n",
    "#### --------\n",
    "\n",
    "df_vectors = pd.read_csv(current_wd+'/output/vectors_900s_300d.tsv', sep='\\t',header=None)\n",
    "df_words = pd.read_csv(current_wd+'/output/metadata_900s_300d.tsv', sep='\\t',header=None)\n",
    "\n",
    "word_vect = df_vectors.values\n",
    "word_emb_dict = {}\n",
    "for k,v in enumerate(df_words.values):\n",
    "    word_emb_dict[v[0]] = word_vect[k]\n",
    "\n",
    "#word_emb_dict['syria']"
   ]
  },
  {
   "cell_type": "code",
   "execution_count": null,
   "metadata": {},
   "outputs": [],
   "source": [
    "word_emb_dict.keys()"
   ]
  },
  {
   "cell_type": "code",
   "execution_count": null,
   "metadata": {},
   "outputs": [],
   "source": [
    "##--- GET GLOVE EMBEDDINGS\n",
    "from tensorflow.python.client import device_lib\n",
    "import json\n",
    "import pickle\n",
    "\n",
    "device_lib.list_local_devices()\n",
    "\n",
    "\n",
    "# %%\n",
    "print(\"Num GPUs Available: \", len(tf.config.experimental.list_physical_devices('GPU')))\n",
    "\n",
    "# %%\n",
    "####################################################################################\n",
    "# Get encoding from glove\n",
    "####################################################################################\n",
    "embeddings_index = {}\n",
    "glove_embedding_path = current_wd+'/glove.6B.300d.txt'\n",
    "with open(glove_embedding_path) as f:\n",
    "    for line in f:   \n",
    "        values = line.split()\n",
    "        word = values[0]\n",
    "        coefs = np.asarray(values[1:], dtype='float32')\n",
    "        embeddings_index[word] = coefs\n",
    "        \n",
    "embeddings_index['help']"
   ]
  },
  {
   "cell_type": "code",
   "execution_count": null,
   "metadata": {},
   "outputs": [],
   "source": [
    "print(embeddings_index['syria'].shape)\n",
    "print(word_emb_dict['syria'].shape)"
   ]
  },
  {
   "cell_type": "code",
   "execution_count": null,
   "metadata": {},
   "outputs": [],
   "source": [
    "### create padded sequence function\n",
    "def create_padded_seq (df, type_of_data, cols_to_use_list, output_location, save_label, embedding_dim, max_length):\n",
    "    \n",
    "    trunc_type = 'pre'\n",
    "    padding_type = 'pre'\n",
    "    oov_tok = \"<oov>\"\n",
    "\n",
    "    a,t = None, None\n",
    "    if len(cols_to_use_list) == 1:\n",
    "        a = np.array(df[cols_to_use_list[0]].astype(\"str\"))\n",
    "        t = a\n",
    "        #a = np.concatenate((a1,a2), axis=0)\n",
    "    else:\n",
    "        a1 = np.array(df[cols_to_use_list[0]].astype(\"str\"))\n",
    "        a2 = np.array(df[cols_to_use_list[1]].astype(\"str\"))\n",
    "        a = np.concatenate((a1,a2), axis=0)\n",
    "        t = a1+' '+a2\n",
    "    \n",
    "    print(\"--- DONE CONCAT\")\n",
    "    # %%\n",
    "    \n",
    "    if type_of_data == 'TRAIN':\n",
    "        tokenizer = Tokenizer(oov_token = oov_tok)\n",
    "        tokenizer.fit_on_texts(a)\n",
    "        \n",
    "        # save tokenizer pickle\n",
    "        #pickle_save_location = \"\"\n",
    "        pickle_save_location = output_location+'/tokenizer_'+save_label+'.pkl'\n",
    "        #print(\"pickle save location: %s\" %pickle_save_location)\n",
    "            \n",
    "        print('tokenizer save location: '+str(pickle_save_location))\n",
    "        with open(pickle_save_location, 'wb') as handle:\n",
    "            pickle.dump(tokenizer, handle, protocol=pickle.HIGHEST_PROTOCOL)\n",
    "        \n",
    "        # %%\n",
    "        word_index = tokenizer.word_index\n",
    "        vocab_size = len(word_index) + 1\n",
    "        print('******* vocab size is:'+str(vocab_size))\n",
    "        \n",
    "        encoded_docs = tokenizer.texts_to_sequences(t)\n",
    "        padded_sequence = pad_sequences(encoded_docs, maxlen=max_length, padding=padding_type, truncating=trunc_type)\n",
    "        \n",
    "        # %%\n",
    "        ####################################################################################\n",
    "        # creating matrix for words and encoding\n",
    "        ####################################################################################\n",
    "        embeddings_matrix = np.zeros((vocab_size, embedding_dim))\n",
    "        word_not_found = []\n",
    "\n",
    "        for word, i in word_index.items():\n",
    "            embedding_vector_learned = word_emb_dict.get(word)\n",
    "            embedding_vector_glove = embeddings_index.get(word)\n",
    "\n",
    "            if embedding_vector_learned is not None:\n",
    "                embeddings_matrix[i] = embedding_vector_learned\n",
    "            elif embedding_vector_glove is not None:\n",
    "                embeddings_matrix[i] = embedding_vector_glove\n",
    "            else:\n",
    "                embeddings_matrix[i] = word_emb_dict.get('[UNK]')\n",
    "                word_not_found.append(word)\n",
    "\n",
    "        print('Shape of Embedding Matrix: '+str(embeddings_matrix.shape))\n",
    "        print('Number of words not found in the embeddings: '+str(len(word_not_found)))\n",
    "\n",
    "        return padded_sequence, embeddings_matrix, word_not_found, vocab_size\n",
    "    else:\n",
    "        pickle_saved_location = output_location+'/tokenizer_'+save_label+'.pkl'\n",
    "            \n",
    "        print('tokenizer saved location for test: '+str(pickle_saved_location))\n",
    "        \n",
    "        tokenizer = pickle.load(open(pickle_saved_location,'rb'))\n",
    "        \n",
    "        encoded_docs = tokenizer.texts_to_sequences(t)\n",
    "        padded_sequence = pad_sequences(encoded_docs, maxlen=max_length, padding=padding_type, truncating=trunc_type)\n",
    "        \n",
    "        return padded_sequence"
   ]
  },
  {
   "attachments": {},
   "cell_type": "markdown",
   "metadata": {},
   "source": [
    "##### Learn Embeddings"
   ]
  },
  {
   "cell_type": "code",
   "execution_count": null,
   "metadata": {},
   "outputs": [],
   "source": [
    "def get_vocab(df, col_to_use):\n",
    "    trunc_type = 'pre'\n",
    "    padding_type = 'pre'\n",
    "    oov_tok = \"<oov>\"\n",
    "\n",
    "    a = np.array(df[col_to_use].astype(\"str\"))\n",
    "    tokenizer = Tokenizer(oov_token = oov_tok)\n",
    "    tokenizer.fit_on_texts(a)\n",
    "\n",
    "    # Get our training data word index\n",
    "    word_index = tokenizer.word_index\n",
    "    \n",
    "    return word_index.keys()"
   ]
  },
  {
   "cell_type": "code",
   "execution_count": null,
   "metadata": {},
   "outputs": [],
   "source": [
    "df_train.isna().sum()"
   ]
  },
  {
   "cell_type": "code",
   "execution_count": null,
   "metadata": {},
   "outputs": [],
   "source": [
    "df_final_train = df_train.copy()#df_train[df_train.wc_news_clean > 10].copy()\n",
    "df_final_train['combined_clean'] = df_final_train.clean_author + ' ' + df_final_train.clean_text\n",
    "#df_final_test = df_test[df_test.wc_news_clean > 20].copy()\n",
    "\n",
    "print(df_final_train.shape)\n",
    "#print(df_final_test.shape)"
   ]
  },
  {
   "cell_type": "code",
   "execution_count": null,
   "metadata": {},
   "outputs": [],
   "source": [
    "x_train, x_val, y_train_emb, y_val_emb = train_test_split(df_final_train.drop(columns=['label']), df_final_train['label'], \n",
    "                                                                            test_size=0.05, shuffle = True)\n",
    "\n",
    "print('Shape of Training Matrix:'+str(x_train.shape))\n",
    "print('Shape of Training Target:'+str(y_train_emb.shape))\n",
    "print('Shape of Validation Matrix:'+str(x_val.shape))\n",
    "print('Shape of Validation Target:'+str(y_val_emb.shape))\n",
    "\n",
    "#x_train_emb = x_train['combined_clean']\n",
    "#x_val_emb = x_val['combined_clean']"
   ]
  },
  {
   "cell_type": "code",
   "execution_count": null,
   "metadata": {},
   "outputs": [],
   "source": [
    "x_train.combined_clean.head(2).to_dict()"
   ]
  },
  {
   "cell_type": "code",
   "execution_count": null,
   "metadata": {},
   "outputs": [],
   "source": [
    "vocab_dict = get_vocab(x_train, 'combined_clean')\n",
    "print(\"total vocab: %d\"%len(list(vocab_dict)))"
   ]
  },
  {
   "cell_type": "code",
   "execution_count": null,
   "metadata": {},
   "outputs": [],
   "source": [
    "vocab_dict"
   ]
  },
  {
   "cell_type": "code",
   "execution_count": null,
   "metadata": {},
   "outputs": [],
   "source": [
    "### LEARN EMBEDDINGS\n",
    "# Vocabulary size and number of words in a sequence.\n",
    "vocab_size = len(vocab_dict) + 10\n",
    "sequence_length = 900\n",
    "\n",
    "# Use the text vectorization layer to normalize, split, and map strings to\n",
    "# integers. Note that the layer uses the custom standardization defined above.\n",
    "# Set maximum_sequence length as all samples are not of the same length.\n",
    "vectorize_layer = tf.keras.layers.TextVectorization(\n",
    "    standardize='lower_and_strip_punctuation',\n",
    "    max_tokens=vocab_size,\n",
    "    output_mode='int',\n",
    "    output_sequence_length=sequence_length,\n",
    "    vocabulary=list(vocab_dict))\n"
   ]
  },
  {
   "cell_type": "code",
   "execution_count": null,
   "metadata": {},
   "outputs": [],
   "source": [
    "vectorize_layer.get_vocabulary()"
   ]
  },
  {
   "cell_type": "code",
   "execution_count": null,
   "metadata": {},
   "outputs": [],
   "source": [
    "embedding_dim = 300\n",
    "\n",
    "model_embedding = tf.keras.Sequential()\n",
    "model_embedding.add(tf.keras.Input(shape=(1,), dtype=tf.string))\n",
    "model_embedding.add(vectorize_layer)\n",
    "model_embedding.add(tf.keras.layers.Embedding(vocab_size, embedding_dim, name=\"embedding\"))\n",
    "model_embedding.add(tf.keras.layers.GlobalAveragePooling1D())\n",
    "model_embedding.add(tf.keras.layers.Dense(embedding_dim, activation='relu'))\n",
    "model_embedding.add(tf.keras.layers.Dense(1, activation='sigmoid'))\n",
    "\n",
    "model_embedding.compile(optimizer='adam',\n",
    "              loss=tf.keras.losses.BinaryCrossentropy(from_logits=True),\n",
    "              metrics=['accuracy'])\n",
    "\n",
    "#model_embedding.summary()"
   ]
  },
  {
   "cell_type": "code",
   "execution_count": null,
   "metadata": {},
   "outputs": [],
   "source": [
    "model_embedding.fit(x_train['combined_clean'].to_list(),\n",
    "y_train_emb.to_list(),\n",
    "validation_data=(x_val['combined_clean'].to_list(),y_val_emb.to_list()), \n",
    "epochs=7)"
   ]
  },
  {
   "cell_type": "code",
   "execution_count": null,
   "metadata": {},
   "outputs": [],
   "source": [
    "weights = model_embedding.get_layer('embedding').get_weights()[0]\n",
    "vocab = vectorize_layer.get_vocabulary()"
   ]
  },
  {
   "cell_type": "code",
   "execution_count": null,
   "metadata": {},
   "outputs": [],
   "source": [
    "import io\n",
    "out_v = io.open(current_wd+'/output/vectors_900s_300d.tsv', 'w', encoding='utf-8')\n",
    "out_m = io.open(current_wd+'/output/metadata_900s_300d.tsv', 'w', encoding='utf-8')\n",
    "\n",
    "for index, word in enumerate(vocab):\n",
    "  if index == 0:\n",
    "    continue  # skip 0, it's padding.\n",
    "  vec = weights[index]\n",
    "  out_v.write('\\t'.join([str(x) for x in vec]) + \"\\n\")\n",
    "  out_m.write(word + \"\\n\")\n",
    "out_v.close()\n",
    "out_m.close()"
   ]
  },
  {
   "cell_type": "code",
   "execution_count": null,
   "metadata": {},
   "outputs": [],
   "source": []
  },
  {
   "cell_type": "code",
   "execution_count": null,
   "metadata": {},
   "outputs": [],
   "source": []
  },
  {
   "cell_type": "code",
   "execution_count": null,
   "metadata": {},
   "outputs": [],
   "source": []
  },
  {
   "cell_type": "code",
   "execution_count": null,
   "metadata": {},
   "outputs": [],
   "source": []
  },
  {
   "cell_type": "code",
   "execution_count": null,
   "metadata": {},
   "outputs": [],
   "source": []
  },
  {
   "cell_type": "code",
   "execution_count": null,
   "metadata": {},
   "outputs": [],
   "source": []
  },
  {
   "cell_type": "code",
   "execution_count": null,
   "metadata": {},
   "outputs": [],
   "source": []
  },
  {
   "cell_type": "code",
   "execution_count": null,
   "metadata": {},
   "outputs": [],
   "source": []
  },
  {
   "attachments": {},
   "cell_type": "markdown",
   "metadata": {},
   "source": [
    "##### TRAIN"
   ]
  },
  {
   "cell_type": "code",
   "execution_count": null,
   "metadata": {},
   "outputs": [],
   "source": [
    "df_final_train = df_train[df_train.wc_news_clean > 10].copy()\n",
    "df_final_test = df_test[df_test.wc_news_clean > 10].copy()\n",
    "\n",
    "print(df_final_train.shape)\n",
    "print(df_final_test.shape)"
   ]
  },
  {
   "cell_type": "code",
   "execution_count": null,
   "metadata": {},
   "outputs": [],
   "source": [
    "#df_final_train.dtypes"
   ]
  },
  {
   "cell_type": "code",
   "execution_count": null,
   "metadata": {},
   "outputs": [],
   "source": [
    "df_final_train['combined_clean'] =  df_final_train.clean_author + ' ' + df_final_train.clean_text\n",
    "df_final_test['combined_clean'] =  df_final_test.clean_author + ' ' + df_final_test.clean_text"
   ]
  },
  {
   "cell_type": "code",
   "execution_count": null,
   "metadata": {},
   "outputs": [],
   "source": [
    "#v = df_final_train['combined_clean'].str.split().tolist()\n",
    "#c = Counter(chain.from_iterable(v))"
   ]
  },
  {
   "cell_type": "code",
   "execution_count": null,
   "metadata": {},
   "outputs": [],
   "source": [
    "####################################################################################\n",
    "# train validation split\n",
    "####################################################################################\n",
    "x_train, x_val, y_train, y_val = train_test_split(df_final_train, \n",
    "                                                    df_final_train['label'], \n",
    "                                                    test_size=0.1, shuffle = True)\n",
    "\n",
    "print('Shape of Training Matrix:'+str(x_train.shape))\n",
    "print('Shape of Training Target:'+str(y_train.shape))\n",
    "print('Shape of Validation Matrix:'+str(x_val.shape))\n",
    "print('Shape of Validation Target:'+str(y_val.shape))"
   ]
  },
  {
   "cell_type": "code",
   "execution_count": null,
   "metadata": {},
   "outputs": [],
   "source": [
    "vocab_dict_train = get_vocab(x_train, 'combined_clean')\n",
    "vocab_dict_val = get_vocab(x_val, 'combined_clean')\n",
    "vocab_dict_test = get_vocab(df_final_test, 'combined_clean')\n",
    "\n",
    "print(len(vocab_dict_train))\n",
    "print(len(vocab_dict_val))\n",
    "print(len(vocab_dict_test))"
   ]
  },
  {
   "cell_type": "code",
   "execution_count": null,
   "metadata": {},
   "outputs": [],
   "source": [
    "x_padded_sequence_train, embeddings_matrix, word_not_found, vocab_size = create_padded_seq(x_train, 'TRAIN', \n",
    "                                                                       ['combined_clean'],\n",
    "                                                                      output_location, save_label, embedding_dim, max_length)\n",
    "print(\"GOT PADDED DATA\")"
   ]
  },
  {
   "cell_type": "code",
   "execution_count": null,
   "metadata": {},
   "outputs": [],
   "source": [
    "# saving the embedding matrix in the 'npy' format\n",
    "np.save(current_wd+'/output/embedding_matrix.npy', embeddings_matrix)\n",
    "print(\"Done writing matrix\")"
   ]
  },
  {
   "cell_type": "code",
   "execution_count": null,
   "metadata": {},
   "outputs": [],
   "source": [
    "embeddings_matrix"
   ]
  },
  {
   "cell_type": "code",
   "execution_count": null,
   "metadata": {},
   "outputs": [],
   "source": [
    "embeddings_matrix_loaded = np.load(current_wd+'/output/embedding_matrix.npy')"
   ]
  },
  {
   "cell_type": "code",
   "execution_count": null,
   "metadata": {},
   "outputs": [],
   "source": [
    "embeddings_matrix_loaded"
   ]
  },
  {
   "cell_type": "code",
   "execution_count": null,
   "metadata": {},
   "outputs": [],
   "source": [
    "embeddings_matrix"
   ]
  },
  {
   "cell_type": "code",
   "execution_count": null,
   "metadata": {},
   "outputs": [],
   "source": [
    " #embeddings_index, word_emb_dict\n",
    "missing_words=[]\n",
    "for single_word in list(vocab_dict_test):\n",
    "    if single_word not in list(vocab_dict_train):\n",
    "        missing_words.append(single_word)\n",
    "\n",
    "print(len(missing_words))"
   ]
  },
  {
   "cell_type": "code",
   "execution_count": null,
   "metadata": {},
   "outputs": [],
   "source": [
    "missing_words"
   ]
  },
  {
   "attachments": {},
   "cell_type": "markdown",
   "metadata": {},
   "source": [
    "train vs word_emb = 1390\n",
    "train vs glove = 23900\n",
    "\n",
    "val vs word_emb = 148\n",
    "val vs glove = 5657\n",
    "\n",
    "test vs word_emb = 20193\n",
    "test vs glove = 19957"
   ]
  },
  {
   "cell_type": "code",
   "execution_count": null,
   "metadata": {},
   "outputs": [],
   "source": [
    "#word_emb_dict.keys()\n",
    "embeddings_matrix"
   ]
  },
  {
   "cell_type": "code",
   "execution_count": null,
   "metadata": {},
   "outputs": [],
   "source": [
    "x_padded_sequence_val = create_padded_seq(x_val, 'TEST', \n",
    "                                           ['combined_clean'],\n",
    "                                          output_location, save_label, embedding_dim, max_length)"
   ]
  },
  {
   "cell_type": "code",
   "execution_count": null,
   "metadata": {},
   "outputs": [],
   "source": [
    "vocab_size = len(vocab_dict_train) + 10\n",
    "#max_length = 1500\n",
    "vectorize_layer_lstm = tf.keras.layers.TextVectorization(\n",
    "    standardize='lower_and_strip_punctuation',\n",
    "    max_tokens=vocab_size,\n",
    "    output_mode='int',\n",
    "    output_sequence_length=max_length,\n",
    "    vocabulary=list(word_emb_dict.keys()))"
   ]
  },
  {
   "cell_type": "code",
   "execution_count": null,
   "metadata": {},
   "outputs": [],
   "source": [
    "vectorize_layer_lstm.get_vocabulary()"
   ]
  },
  {
   "cell_type": "code",
   "execution_count": null,
   "metadata": {},
   "outputs": [],
   "source": [
    "print(vocab_size, embedding_dim)\n",
    "embeddings_matrix = np.zeros((vocab_size, embedding_dim))\n",
    "\n",
    "for i,word in enumerate(vocab_dict_train):\n",
    "    #print(word)\n",
    "    if word in word_emb_dict:\n",
    "        embeddings_matrix[i] = word_emb_dict.get(word)\n",
    "    else:\n",
    "        embeddings_matrix[i] = word_emb_dict.get('[UNK]')"
   ]
  },
  {
   "cell_type": "code",
   "execution_count": null,
   "metadata": {},
   "outputs": [],
   "source": [
    "embeddings_matrix[0]"
   ]
  },
  {
   "cell_type": "code",
   "execution_count": null,
   "metadata": {},
   "outputs": [],
   "source": [
    "\n",
    "\n",
    "####################################################################################\n",
    "# Model Training\n",
    "####################################################################################\n",
    "METRICS = [\n",
    "      keras.metrics.BinaryAccuracy(name='accuracy')\n",
    "      #keras.metrics.Precision(name='precision'),\n",
    "      #keras.metrics.Recall(name='recall'),\n",
    "      #keras.metrics.AUC(name='auc')\n",
    "]\n",
    "\n",
    "model_lstm = tf.keras.Sequential()\n",
    "#model_lstm.add(tf.keras.Input(shape=(1,), dtype=tf.string))\n",
    "#model_lstm.add(vectorize_layer_lstm)\n",
    "model_lstm.add(tf.keras.layers.Embedding(vocab_size, \n",
    "                                         embedding_dim, \n",
    "                                         input_length=max_length,\n",
    "                                         weights=[embeddings_matrix_loaded],\n",
    "                                         #mask_zero=True,\n",
    "                                         trainable=False))\n",
    "model_lstm.add(tf.keras.layers.LSTM(100, return_sequences=False, activation='tanh', dropout=0.2))\n",
    "#model_lstm.add(tf.keras.layers.LSTM(150, return_sequences=True))\n",
    "model_lstm.add(tf.keras.layers.Dropout(0.4))\n",
    "model_lstm.add(tf.keras.layers.Dense(50, activation='relu'))\n",
    "model_lstm.add(tf.keras.layers.Dropout(0.4))\n",
    "model_lstm.add(tf.keras.layers.Dense(10, activation='relu'))\n",
    "#model_lstm.add(tf.keras.layers.Flatten())\n",
    "model_lstm.add(tf.keras.layers.Dropout(0.4))\n",
    "model_lstm.add(tf.keras.layers.Dense(1, activation='sigmoid'))\n",
    "\n",
    "model_lstm.compile(loss='binary_crossentropy',\n",
    "                   optimizer=keras.optimizers.Adam(learning_rate=1e-05, epsilon=1e-08,clipnorm=1.0), \n",
    "                   metrics=METRICS)\n",
    "model_lstm.summary()"
   ]
  },
  {
   "cell_type": "code",
   "execution_count": null,
   "metadata": {},
   "outputs": [],
   "source": [
    "#x_padded_sequence_train.shape"
   ]
  },
  {
   "cell_type": "code",
   "execution_count": null,
   "metadata": {},
   "outputs": [],
   "source": [
    "# %%\n",
    "###SEED\n",
    "from numpy.random import seed\n",
    "#from tensorflow import set_random_seed\n",
    "from random import randint\n",
    "\n",
    "seed_to_use = 40 #randint(1, 60)\n",
    "print(\"seed used in numpy %s\" %seed_to_use)\n",
    "seed(seed_to_use)\n",
    "print(\"seed use0 in tf %s\" %seed_to_use)\n",
    "#set_random_seed(seed_to_use)\n",
    "\n",
    "#seeds working 35\n",
    "\n",
    "num_epochs = 5\n",
    "batch_size = 60\n",
    "sample_weight_train = np.ones(shape=(len(y_train),))\n",
    "sample_weight_train[y_train == 1] = 5\n",
    "early_stopping = tf.keras.callbacks.EarlyStopping(monitor='val_accuracy',patience=3,restore_best_weights=True)\n",
    "history = model_lstm.fit(x_padded_sequence_train, y_train, \n",
    "                         epochs=num_epochs,\n",
    "                         callbacks = [early_stopping],\n",
    "                         batch_size=batch_size,\n",
    "                         validation_data = (x_padded_sequence_val, y_val),\n",
    "                         #validation_split= 0.1, #(x_padded_sequence_val, y_val), \n",
    "                         #sample_weight = sample_weight_train,\n",
    "                         verbose=1)\n",
    "\n",
    "print(\"Training Complete\")"
   ]
  },
  {
   "cell_type": "code",
   "execution_count": null,
   "metadata": {},
   "outputs": [],
   "source": [
    "...\n",
    "# list all data in history\n",
    "print(history.history.keys())"
   ]
  },
  {
   "cell_type": "code",
   "execution_count": null,
   "metadata": {},
   "outputs": [],
   "source": [
    "def plot_training_charts(hist, metric_name):\n",
    "    plt.plot(hist.history[metric_name])\n",
    "    plt.plot(hist.history['val_'+metric_name])\n",
    "    plt.title('model'+ ' ' +metric_name)\n",
    "    plt.ylabel(metric_name)\n",
    "    plt.xlabel('epoch')\n",
    "    plt.legend(['train', 'val'], loc='upper left')\n",
    "    \n",
    "    plt.show()"
   ]
  },
  {
   "cell_type": "code",
   "execution_count": null,
   "metadata": {},
   "outputs": [],
   "source": [
    "# summarize history for accuracy\n",
    "plot_training_charts(history, 'accuracy')\n",
    "\n",
    "plot_training_charts(history, 'loss')\n",
    " "
   ]
  },
  {
   "cell_type": "code",
   "execution_count": null,
   "metadata": {},
   "outputs": [],
   "source": [
    "#df_final_test_use = df_final_test[df_final_test.hc_mc_thread_sequence <3]\n",
    "\n",
    "x_padded_sequence_test = create_padded_seq(df_final_test, 'TEST', \n",
    "                                           ['combined_clean'],\n",
    "                                          output_location, save_label, embedding_dim, max_length)\n",
    "\n",
    "x_test = x_padded_sequence_test #df_final_test['combined_clean']\n",
    "y_test = df_final_test['label']\n",
    "\n",
    "\n",
    "# %%\n",
    "print('Shape of Test Matrix:'+str(x_test.shape))\n",
    "print('Shape of Test Target:'+str(y_test.shape))\n",
    "\n",
    "\n",
    "# %%\n",
    "y_test_proba = model_lstm.predict(x_test)\n",
    "\n",
    "\n",
    "target_dict = {0: 'ESC-Y', 1: 'ESC-N'}\n",
    "\n",
    "threshold, scored_data, cnf_mat = validation_probability_threshold(y_test, y_test_proba, 'Testing')\n",
    "plot_confusion_matrix(cnf_mat, [target_dict[1], target_dict[0]], title='Confusion matrix', cmap=None, normalize=False)"
   ]
  },
  {
   "cell_type": "code",
   "execution_count": null,
   "metadata": {},
   "outputs": [],
   "source": [
    "print(output_location+'/model_lstm2_'+save_label+'.h5')\n",
    "tf.keras.models.save_model(model_lstm,output_location+'/model_lstm_'+save_label+'.h5')\n",
    "print(\"Model Saved\")\n",
    "\n"
   ]
  },
  {
   "cell_type": "code",
   "execution_count": null,
   "metadata": {},
   "outputs": [],
   "source": [
    "new_model = tf.keras.models.load_model(output_location+'/model_lstm_'+save_label+'.h5')"
   ]
  },
  {
   "cell_type": "code",
   "execution_count": null,
   "metadata": {},
   "outputs": [],
   "source": [
    "df_to_use = df_final_train\n",
    "padded_seq = create_padded_seq(df_to_use, 'TEST', \n",
    "                                ['combined_clean'],\n",
    "                                output_location, save_label, embedding_dim, max_length)\n",
    "\n",
    "print(df_final_train.shape)\n",
    "print(padded_seq.shape)"
   ]
  },
  {
   "cell_type": "code",
   "execution_count": null,
   "metadata": {},
   "outputs": [],
   "source": [
    "y_lstm_prob_model = model_lstm.predict(padded_seq)\n",
    "print(y_lstm_prob_model.shape)\n",
    "df_to_use['lstm_prob'] = y_lstm_prob_model\n",
    "\n",
    "df_to_use.to_csv(current_wd+'/output/df_train_clean_lstm.csv')\n",
    "print(\"DONE WRITING {}\".format(df_to_use.shape))"
   ]
  },
  {
   "cell_type": "code",
   "execution_count": null,
   "metadata": {},
   "outputs": [],
   "source": []
  },
  {
   "cell_type": "code",
   "execution_count": null,
   "metadata": {},
   "outputs": [],
   "source": []
  },
  {
   "attachments": {},
   "cell_type": "markdown",
   "metadata": {},
   "source": [
    "#### BERT"
   ]
  },
  {
   "cell_type": "code",
   "execution_count": null,
   "metadata": {},
   "outputs": [],
   "source": [
    "import tensorflow_hub as hub\n",
    "import tensorflow_text as text\n",
    "from official.nlp import optimization  # to create AdamW optimizer"
   ]
  },
  {
   "cell_type": "code",
   "execution_count": null,
   "metadata": {},
   "outputs": [],
   "source": [
    "bert_model_name = 'small_bert/bert_en_uncased_L-4_H-512_A-8' \n",
    "\n",
    "map_name_to_handle = {\n",
    "    'bert_en_uncased_L-12_H-768_A-12':\n",
    "        'https://tfhub.dev/tensorflow/bert_en_uncased_L-12_H-768_A-12/3',\n",
    "    'bert_en_cased_L-12_H-768_A-12':\n",
    "        'https://tfhub.dev/tensorflow/bert_en_cased_L-12_H-768_A-12/3',\n",
    "    'bert_multi_cased_L-12_H-768_A-12':\n",
    "        'https://tfhub.dev/tensorflow/bert_multi_cased_L-12_H-768_A-12/3',\n",
    "    'small_bert/bert_en_uncased_L-2_H-128_A-2':\n",
    "        'https://tfhub.dev/tensorflow/small_bert/bert_en_uncased_L-2_H-128_A-2/1',\n",
    "    'small_bert/bert_en_uncased_L-2_H-256_A-4':\n",
    "        'https://tfhub.dev/tensorflow/small_bert/bert_en_uncased_L-2_H-256_A-4/1',\n",
    "    'small_bert/bert_en_uncased_L-2_H-512_A-8':\n",
    "        'https://tfhub.dev/tensorflow/small_bert/bert_en_uncased_L-2_H-512_A-8/1',\n",
    "    'small_bert/bert_en_uncased_L-2_H-768_A-12':\n",
    "        'https://tfhub.dev/tensorflow/small_bert/bert_en_uncased_L-2_H-768_A-12/1',\n",
    "    'small_bert/bert_en_uncased_L-4_H-128_A-2':\n",
    "        'https://tfhub.dev/tensorflow/small_bert/bert_en_uncased_L-4_H-128_A-2/1',\n",
    "    'small_bert/bert_en_uncased_L-4_H-256_A-4':\n",
    "        'https://tfhub.dev/tensorflow/small_bert/bert_en_uncased_L-4_H-256_A-4/1',\n",
    "    'small_bert/bert_en_uncased_L-4_H-512_A-8':\n",
    "        'https://tfhub.dev/tensorflow/small_bert/bert_en_uncased_L-4_H-512_A-8/1',\n",
    "    'small_bert/bert_en_uncased_L-4_H-768_A-12':\n",
    "        'https://tfhub.dev/tensorflow/small_bert/bert_en_uncased_L-4_H-768_A-12/1',\n",
    "    'small_bert/bert_en_uncased_L-6_H-128_A-2':\n",
    "        'https://tfhub.dev/tensorflow/small_bert/bert_en_uncased_L-6_H-128_A-2/1',\n",
    "    'small_bert/bert_en_uncased_L-6_H-256_A-4':\n",
    "        'https://tfhub.dev/tensorflow/small_bert/bert_en_uncased_L-6_H-256_A-4/1',\n",
    "    'small_bert/bert_en_uncased_L-6_H-512_A-8':\n",
    "        'https://tfhub.dev/tensorflow/small_bert/bert_en_uncased_L-6_H-512_A-8/1',\n",
    "    'small_bert/bert_en_uncased_L-6_H-768_A-12':\n",
    "        'https://tfhub.dev/tensorflow/small_bert/bert_en_uncased_L-6_H-768_A-12/1',\n",
    "    'small_bert/bert_en_uncased_L-8_H-128_A-2':\n",
    "        'https://tfhub.dev/tensorflow/small_bert/bert_en_uncased_L-8_H-128_A-2/1',\n",
    "    'small_bert/bert_en_uncased_L-8_H-256_A-4':\n",
    "        'https://tfhub.dev/tensorflow/small_bert/bert_en_uncased_L-8_H-256_A-4/1',\n",
    "    'small_bert/bert_en_uncased_L-8_H-512_A-8':\n",
    "        'https://tfhub.dev/tensorflow/small_bert/bert_en_uncased_L-8_H-512_A-8/1',\n",
    "    'small_bert/bert_en_uncased_L-8_H-768_A-12':\n",
    "        'https://tfhub.dev/tensorflow/small_bert/bert_en_uncased_L-8_H-768_A-12/1',\n",
    "    'small_bert/bert_en_uncased_L-10_H-128_A-2':\n",
    "        'https://tfhub.dev/tensorflow/small_bert/bert_en_uncased_L-10_H-128_A-2/1',\n",
    "    'small_bert/bert_en_uncased_L-10_H-256_A-4':\n",
    "        'https://tfhub.dev/tensorflow/small_bert/bert_en_uncased_L-10_H-256_A-4/1',\n",
    "    'small_bert/bert_en_uncased_L-10_H-512_A-8':\n",
    "        'https://tfhub.dev/tensorflow/small_bert/bert_en_uncased_L-10_H-512_A-8/1',\n",
    "    'small_bert/bert_en_uncased_L-10_H-768_A-12':\n",
    "        'https://tfhub.dev/tensorflow/small_bert/bert_en_uncased_L-10_H-768_A-12/1',\n",
    "    'small_bert/bert_en_uncased_L-12_H-128_A-2':\n",
    "        'https://tfhub.dev/tensorflow/small_bert/bert_en_uncased_L-12_H-128_A-2/1',\n",
    "    'small_bert/bert_en_uncased_L-12_H-256_A-4':\n",
    "        'https://tfhub.dev/tensorflow/small_bert/bert_en_uncased_L-12_H-256_A-4/1',\n",
    "    'small_bert/bert_en_uncased_L-12_H-512_A-8':\n",
    "        'https://tfhub.dev/tensorflow/small_bert/bert_en_uncased_L-12_H-512_A-8/1',\n",
    "    'small_bert/bert_en_uncased_L-12_H-768_A-12':\n",
    "        'https://tfhub.dev/tensorflow/small_bert/bert_en_uncased_L-12_H-768_A-12/1',\n",
    "    'albert_en_base':\n",
    "        'https://tfhub.dev/tensorflow/albert_en_base/2',\n",
    "    'electra_small':\n",
    "        'https://tfhub.dev/google/electra_small/2',\n",
    "    'electra_base':\n",
    "        'https://tfhub.dev/google/electra_base/2',\n",
    "    'experts_pubmed':\n",
    "        'https://tfhub.dev/google/experts/bert/pubmed/2',\n",
    "    'experts_wiki_books':\n",
    "        'https://tfhub.dev/google/experts/bert/wiki_books/2',\n",
    "    'talking-heads_base':\n",
    "        'https://tfhub.dev/tensorflow/talkheads_ggelu_bert_en_base/1',\n",
    "}\n",
    "\n",
    "map_model_to_preprocess = {\n",
    "    'bert_en_uncased_L-12_H-768_A-12':\n",
    "        'https://tfhub.dev/tensorflow/bert_en_uncased_preprocess/3',\n",
    "    'bert_en_cased_L-12_H-768_A-12':\n",
    "        'https://tfhub.dev/tensorflow/bert_en_cased_preprocess/3',\n",
    "    'small_bert/bert_en_uncased_L-2_H-128_A-2':\n",
    "        'https://tfhub.dev/tensorflow/bert_en_uncased_preprocess/3',\n",
    "    'small_bert/bert_en_uncased_L-2_H-256_A-4':\n",
    "        'https://tfhub.dev/tensorflow/bert_en_uncased_preprocess/3',\n",
    "    'small_bert/bert_en_uncased_L-2_H-512_A-8':\n",
    "        'https://tfhub.dev/tensorflow/bert_en_uncased_preprocess/3',\n",
    "    'small_bert/bert_en_uncased_L-2_H-768_A-12':\n",
    "        'https://tfhub.dev/tensorflow/bert_en_uncased_preprocess/3',\n",
    "    'small_bert/bert_en_uncased_L-4_H-128_A-2':\n",
    "        'https://tfhub.dev/tensorflow/bert_en_uncased_preprocess/3',\n",
    "    'small_bert/bert_en_uncased_L-4_H-256_A-4':\n",
    "        'https://tfhub.dev/tensorflow/bert_en_uncased_preprocess/3',\n",
    "    'small_bert/bert_en_uncased_L-4_H-512_A-8':\n",
    "        'https://tfhub.dev/tensorflow/bert_en_uncased_preprocess/3',\n",
    "    'small_bert/bert_en_uncased_L-4_H-768_A-12':\n",
    "        'https://tfhub.dev/tensorflow/bert_en_uncased_preprocess/3',\n",
    "    'small_bert/bert_en_uncased_L-6_H-128_A-2':\n",
    "        'https://tfhub.dev/tensorflow/bert_en_uncased_preprocess/3',\n",
    "    'small_bert/bert_en_uncased_L-6_H-256_A-4':\n",
    "        'https://tfhub.dev/tensorflow/bert_en_uncased_preprocess/3',\n",
    "    'small_bert/bert_en_uncased_L-6_H-512_A-8':\n",
    "        'https://tfhub.dev/tensorflow/bert_en_uncased_preprocess/3',\n",
    "    'small_bert/bert_en_uncased_L-6_H-768_A-12':\n",
    "        'https://tfhub.dev/tensorflow/bert_en_uncased_preprocess/3',\n",
    "    'small_bert/bert_en_uncased_L-8_H-128_A-2':\n",
    "        'https://tfhub.dev/tensorflow/bert_en_uncased_preprocess/3',\n",
    "    'small_bert/bert_en_uncased_L-8_H-256_A-4':\n",
    "        'https://tfhub.dev/tensorflow/bert_en_uncased_preprocess/3',\n",
    "    'small_bert/bert_en_uncased_L-8_H-512_A-8':\n",
    "        'https://tfhub.dev/tensorflow/bert_en_uncased_preprocess/3',\n",
    "    'small_bert/bert_en_uncased_L-8_H-768_A-12':\n",
    "        'https://tfhub.dev/tensorflow/bert_en_uncased_preprocess/3',\n",
    "    'small_bert/bert_en_uncased_L-10_H-128_A-2':\n",
    "        'https://tfhub.dev/tensorflow/bert_en_uncased_preprocess/3',\n",
    "    'small_bert/bert_en_uncased_L-10_H-256_A-4':\n",
    "        'https://tfhub.dev/tensorflow/bert_en_uncased_preprocess/3',\n",
    "    'small_bert/bert_en_uncased_L-10_H-512_A-8':\n",
    "        'https://tfhub.dev/tensorflow/bert_en_uncased_preprocess/3',\n",
    "    'small_bert/bert_en_uncased_L-10_H-768_A-12':\n",
    "        'https://tfhub.dev/tensorflow/bert_en_uncased_preprocess/3',\n",
    "    'small_bert/bert_en_uncased_L-12_H-128_A-2':\n",
    "        'https://tfhub.dev/tensorflow/bert_en_uncased_preprocess/3',\n",
    "    'small_bert/bert_en_uncased_L-12_H-256_A-4':\n",
    "        'https://tfhub.dev/tensorflow/bert_en_uncased_preprocess/3',\n",
    "    'small_bert/bert_en_uncased_L-12_H-512_A-8':\n",
    "        'https://tfhub.dev/tensorflow/bert_en_uncased_preprocess/3',\n",
    "    'small_bert/bert_en_uncased_L-12_H-768_A-12':\n",
    "        'https://tfhub.dev/tensorflow/bert_en_uncased_preprocess/3',\n",
    "    'bert_multi_cased_L-12_H-768_A-12':\n",
    "        'https://tfhub.dev/tensorflow/bert_multi_cased_preprocess/3',\n",
    "    'albert_en_base':\n",
    "        'https://tfhub.dev/tensorflow/albert_en_preprocess/3',\n",
    "    'electra_small':\n",
    "        'https://tfhub.dev/tensorflow/bert_en_uncased_preprocess/3',\n",
    "    'electra_base':\n",
    "        'https://tfhub.dev/tensorflow/bert_en_uncased_preprocess/3',\n",
    "    'experts_pubmed':\n",
    "        'https://tfhub.dev/tensorflow/bert_en_uncased_preprocess/3',\n",
    "    'experts_wiki_books':\n",
    "        'https://tfhub.dev/tensorflow/bert_en_uncased_preprocess/3',\n",
    "    'talking-heads_base':\n",
    "        'https://tfhub.dev/tensorflow/bert_en_uncased_preprocess/3',\n",
    "}\n",
    "\n",
    "tfhub_handle_encoder = map_name_to_handle[bert_model_name]\n",
    "tfhub_handle_preprocess = map_model_to_preprocess[bert_model_name]\n",
    "\n",
    "print(f'BERT model selected           : {tfhub_handle_encoder}')\n",
    "print(f'Preprocess model auto-selected: {tfhub_handle_preprocess}')"
   ]
  },
  {
   "cell_type": "code",
   "execution_count": null,
   "metadata": {},
   "outputs": [],
   "source": [
    "bert_preprocess_model = hub.KerasLayer(tfhub_handle_preprocess)\n",
    "bert_model = hub.KerasLayer(tfhub_handle_encoder)"
   ]
  },
  {
   "cell_type": "code",
   "execution_count": null,
   "metadata": {},
   "outputs": [],
   "source": [
    "def make_bert_preprocess_model(sentence_features, seq_length=512):\n",
    "    \"\"\"Returns Model mapping string features to BERT inputs.\n",
    "    Args:\n",
    "    sentence_features: a list with the names of string-valued features.\n",
    "    seq_length: an integer that defines the sequence length of BERT inputs.\n",
    "    Returns:\n",
    "    A Keras Model that can be called on a list or dict of string Tensors\n",
    "    (with the order or names, resp., given by sentence_features) and\n",
    "    returns a dict of tensors for input to BERT.\n",
    "    \"\"\"\n",
    "\n",
    "    input_segments = [tf.keras.layers.Input(shape=(), dtype=tf.string,\n",
    "                      name=ft) for ft in sentence_features]\n",
    "\n",
    "    # Tokenize the text to word pieces.\n",
    "\n",
    "    bert_preprocess = hub.load(tfhub_handle_preprocess)\n",
    "    tokenizer = hub.KerasLayer(bert_preprocess.tokenize,\n",
    "                               name='tokenizer')\n",
    "    segments = [tokenizer(s) for s in input_segments]\n",
    "\n",
    "    # Optional: Trim segments in a smart way to fit seq_length.\n",
    "    # Simple cases (like this example) can skip this step and let\n",
    "    # the next step apply a default truncation to approximately equal lengths.\n",
    "\n",
    "    truncated_segments = segments\n",
    "\n",
    "    # Pack inputs. The details (start/end token ids, dict of output tensors)\n",
    "    # are model-dependent, so this gets loaded from the SavedModel.\n",
    "\n",
    "    packer = hub.KerasLayer(bert_preprocess.bert_pack_inputs,\n",
    "                            arguments=dict(seq_length=seq_length),\n",
    "                            name='packer')\n",
    "    model_inputs = packer(truncated_segments)\n",
    "    return tf.keras.Model(input_segments, model_inputs)"
   ]
  },
  {
   "cell_type": "code",
   "execution_count": null,
   "metadata": {},
   "outputs": [],
   "source": [
    "text_test = ['america']\n",
    "text_preprocessed = bert_preprocess_model(text_test)\n",
    "\n",
    "print(f'Keys       : {list(text_preprocessed.keys())}')\n",
    "print(f'Shape      : {text_preprocessed[\"input_word_ids\"].shape}')\n",
    "print(f'Word Ids   : {text_preprocessed[\"input_word_ids\"][0, :12]}')\n",
    "print(f'Input Mask : {text_preprocessed[\"input_mask\"][0, :12]}')\n",
    "print(f'Type Ids   : {text_preprocessed[\"input_type_ids\"][0, :12]}')"
   ]
  },
  {
   "cell_type": "code",
   "execution_count": null,
   "metadata": {},
   "outputs": [],
   "source": [
    "def text_to_emb(input_text):\n",
    "  input_text_lst = [input_text]\n",
    "  inputs = bert_preprocess_model(input_text_lst)\n",
    "  outputs = bert_model(inputs)\n",
    "  return np.array((outputs['pooled_output']))\n",
    "\n",
    "(text_to_emb('syria')).shape"
   ]
  },
  {
   "cell_type": "code",
   "execution_count": null,
   "metadata": {},
   "outputs": [],
   "source": [
    "def build_classifier_model():\n",
    "  text_input = tf.keras.layers.Input(shape=(), dtype=tf.string, name='text')\n",
    "  preprocessing_layer = make_bert_preprocess_model(['customer_text_clean'])  # hub.KerasLayer(tfhub_handle_preprocess, name='preprocessing')\n",
    "  encoder_inputs = preprocessing_layer(text_input)\n",
    "  encoder = hub.KerasLayer(tfhub_handle_encoder, trainable=True, name='BERT_encoder')\n",
    "  outputs = encoder(encoder_inputs)\n",
    "  net = outputs['pooled_output']\n",
    "  net = tf.keras.layers.Dropout(0.6)(net)\n",
    "  net = tf.keras.layers.Dense(1, activation=None, name='classifier' )(net)\n",
    "  return tf.keras.Model(text_input, net)"
   ]
  },
  {
   "cell_type": "code",
   "execution_count": null,
   "metadata": {},
   "outputs": [],
   "source": [
    "loss = tf.keras.losses.BinaryCrossentropy(from_logits=True)\n",
    "metrics = tf.metrics.BinaryAccuracy()"
   ]
  },
  {
   "cell_type": "code",
   "execution_count": null,
   "metadata": {},
   "outputs": [],
   "source": [
    "epochs = 1\n",
    "batch_size = 600\n",
    "steps_per_epoch = x_train.shape[0] / batch_size #tf.data.experimental.cardinality(x_train['combined_clean']).numpy()\n",
    "num_train_steps = steps_per_epoch * epochs\n",
    "num_warmup_steps = int(0.1*num_train_steps)\n",
    "\n",
    "init_lr = 1e-6\n",
    "optimizer = optimization.create_optimizer(init_lr=init_lr,\n",
    "                                          num_train_steps=num_train_steps,\n",
    "                                          num_warmup_steps=num_warmup_steps,\n",
    "                                          optimizer_type='adamw')"
   ]
  },
  {
   "cell_type": "code",
   "execution_count": null,
   "metadata": {},
   "outputs": [],
   "source": [
    "#text_test = ['this is such an amazing movie!']\n",
    "classifier_model = build_classifier_model()\n",
    "#bert_raw_result = classifier_model(tf.constant(text_test))\n",
    "#print(tf.sigmoid(bert_raw_result))"
   ]
  },
  {
   "cell_type": "code",
   "execution_count": null,
   "metadata": {},
   "outputs": [],
   "source": [
    "classifier_model.compile(optimizer=optimizer,\n",
    "                         loss=loss,\n",
    "                         metrics=metrics)"
   ]
  },
  {
   "cell_type": "code",
   "execution_count": null,
   "metadata": {},
   "outputs": [],
   "source": [
    "tf.keras.utils.plot_model(classifier_model)"
   ]
  },
  {
   "cell_type": "code",
   "execution_count": null,
   "metadata": {},
   "outputs": [],
   "source": [
    "#epochs = 2\n",
    "print(f'Training model with {tfhub_handle_encoder}')\n",
    "history = classifier_model.fit(x_train['combined_clean'],y_train,\n",
    "                               validation_data=(x_val['combined_clean'], y_val),\n",
    "                               epochs=epochs)"
   ]
  },
  {
   "cell_type": "code",
   "execution_count": null,
   "metadata": {},
   "outputs": [],
   "source": [
    "loss, accuracy = classifier_model.evaluate(x = df_final_test['combined_clean'], y=df_final_test['label'])\n",
    "\n",
    "print(f'Loss: {loss}')\n",
    "print(f'Accuracy: {accuracy}')"
   ]
  },
  {
   "cell_type": "code",
   "execution_count": null,
   "metadata": {},
   "outputs": [],
   "source": []
  },
  {
   "cell_type": "code",
   "execution_count": null,
   "metadata": {},
   "outputs": [],
   "source": [
    "sample_sent = ['america']\n",
    "test_preprocess_model_custom = make_bert_preprocess_model(['my_input1'])\n",
    "text_preprocessed = test_preprocess_model_custom(np.array(sample_sent))\n",
    "\n",
    "print(f'Keys       : {list(text_preprocessed.keys())}')\n",
    "print(f'Shape      : {text_preprocessed[\"input_word_ids\"].shape}')\n",
    "print(f'Word Ids   : {text_preprocessed[\"input_word_ids\"][0, :12]}')\n",
    "#print(f'Input Mask : {a[\"input_mask\"][0, :12]}')\n",
    "#print(f'Type Ids   : {a[\"input_type_ids\"][0, :12]}')"
   ]
  }
 ],
 "metadata": {
  "kernelspec": {
   "display_name": "base",
   "language": "python",
   "name": "python3"
  },
  "language_info": {
   "codemirror_mode": {
    "name": "ipython",
    "version": 3
   },
   "file_extension": ".py",
   "mimetype": "text/x-python",
   "name": "python",
   "nbconvert_exporter": "python",
   "pygments_lexer": "ipython3",
   "version": "3.9.7"
  },
  "orig_nbformat": 4,
  "vscode": {
   "interpreter": {
    "hash": "40d3a090f54c6569ab1632332b64b2c03c39dcf918b08424e98f38b5ae0af88f"
   }
  }
 },
 "nbformat": 4,
 "nbformat_minor": 2
}
